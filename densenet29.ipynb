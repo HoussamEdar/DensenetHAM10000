{
 "cells": [
  {
   "cell_type": "markdown",
   "id": "6a6eedc6",
   "metadata": {
    "papermill": {
     "duration": 0.009124,
     "end_time": "2025-01-12T16:48:14.033449",
     "exception": false,
     "start_time": "2025-01-12T16:48:14.024325",
     "status": "completed"
    },
    "tags": []
   },
   "source": [
    " ### First, import all libraries that used in this project"
   ]
  },
  {
   "cell_type": "code",
   "execution_count": 1,
   "id": "d9d9f1c2",
   "metadata": {
    "execution": {
     "iopub.execute_input": "2025-01-12T16:48:14.050353Z",
     "iopub.status.busy": "2025-01-12T16:48:14.050044Z",
     "iopub.status.idle": "2025-01-12T16:48:15.264586Z",
     "shell.execute_reply": "2025-01-12T16:48:15.263369Z"
    },
    "papermill": {
     "duration": 1.224447,
     "end_time": "2025-01-12T16:48:15.266183",
     "exception": false,
     "start_time": "2025-01-12T16:48:14.041736",
     "status": "completed"
    },
    "tags": []
   },
   "outputs": [
    {
     "name": "stdout",
     "output_type": "stream",
     "text": [
      "Path to dataset files: /kaggle/input/\n"
     ]
    }
   ],
   "source": [
    "import kagglehub\n",
    "\n",
    "# Download latest version\n",
    "path = kagglehub.dataset_download(\"kmader/skin-cancer-mnist-ham10000\")\n",
    "\n",
    "print(\"Path to dataset files:\", path)"
   ]
  },
  {
   "cell_type": "code",
   "execution_count": 2,
   "id": "caa57d3b",
   "metadata": {
    "_cell_guid": "b1076dfc-b9ad-4769-8c92-a6c4dae69d19",
    "_uuid": "8f2839f25d086af736a60e9eeb907d3b93b6e0e5",
    "execution": {
     "iopub.execute_input": "2025-01-12T16:48:15.282649Z",
     "iopub.status.busy": "2025-01-12T16:48:15.282284Z",
     "iopub.status.idle": "2025-01-12T16:48:21.771428Z",
     "shell.execute_reply": "2025-01-12T16:48:21.770350Z"
    },
    "papermill": {
     "duration": 6.499855,
     "end_time": "2025-01-12T16:48:21.773797",
     "exception": false,
     "start_time": "2025-01-12T16:48:15.273942",
     "status": "completed"
    },
    "tags": []
   },
   "outputs": [
    {
     "name": "stdout",
     "output_type": "stream",
     "text": [
      "['hmnist_8_8_RGB.csv', 'hmnist_28_28_RGB.csv', 'HAM10000_images_part_1', 'ham10000_images_part_1', 'hmnist_8_8_L.csv', 'HAM10000_images_part_2', 'ham10000_images_part_2', 'hmnist_28_28_L.csv', 'HAM10000_metadata.csv']\n"
     ]
    }
   ],
   "source": [
    "%matplotlib inline\n",
    "# python libraties\n",
    "import os, cv2,itertools\n",
    "import matplotlib.pyplot as plt\n",
    "import numpy as np\n",
    "import pandas as pd\n",
    "from tqdm import tqdm\n",
    "from glob import glob\n",
    "from PIL import Image\n",
    "\n",
    "# pytorch libraries\n",
    "import torch\n",
    "from torch import optim,nn\n",
    "from torch.autograd import Variable\n",
    "from torch.utils.data import DataLoader,Dataset\n",
    "from torchvision import models,transforms\n",
    "\n",
    "# sklearn libraries\n",
    "from sklearn.metrics import confusion_matrix\n",
    "from sklearn.model_selection import train_test_split\n",
    "from sklearn.metrics import classification_report\n",
    "\n",
    "# to make the results are reproducible\n",
    "np.random.seed(10)\n",
    "torch.manual_seed(10)\n",
    "torch.cuda.manual_seed(10)\n",
    "\n",
    "print(os.listdir(\"../input\"))"
   ]
  },
  {
   "cell_type": "markdown",
   "id": "d29fbce1",
   "metadata": {
    "papermill": {
     "duration": 0.01422,
     "end_time": "2025-01-12T16:48:21.803506",
     "exception": false,
     "start_time": "2025-01-12T16:48:21.789286",
     "status": "completed"
    },
    "tags": []
   },
   "source": [
    "## Step 1. Data analysis and preprocessing"
   ]
  },
  {
   "cell_type": "code",
   "execution_count": 3,
   "id": "72f288c1",
   "metadata": {
    "_cell_guid": "79c7e3d0-c299-4dcb-8224-4455121ee9b0",
    "_uuid": "d629ff2d2480ee46fbb7e2d37f6b5fab8052498a",
    "execution": {
     "iopub.execute_input": "2025-01-12T16:48:21.832449Z",
     "iopub.status.busy": "2025-01-12T16:48:21.831807Z",
     "iopub.status.idle": "2025-01-12T16:48:22.420671Z",
     "shell.execute_reply": "2025-01-12T16:48:22.419636Z"
    },
    "papermill": {
     "duration": 0.60454,
     "end_time": "2025-01-12T16:48:22.422662",
     "exception": false,
     "start_time": "2025-01-12T16:48:21.818122",
     "status": "completed"
    },
    "tags": []
   },
   "outputs": [],
   "source": [
    "data_dir = '../input'\n",
    "all_image_path = glob(os.path.join(data_dir, '*', '*.jpg'))\n",
    "imageid_path_dict = {os.path.splitext(os.path.basename(x))[0]: x for x in all_image_path}\n",
    "lesion_type_dict = {\n",
    "    'nv': 'Melanocytic nevi',\n",
    "    'mel': 'dermatofibroma',\n",
    "    'bkl': 'Benign keratosis-like lesions ',\n",
    "    'bcc': 'Basal cell carcinoma',\n",
    "    'akiec': 'Actinic keratoses',\n",
    "    'vasc': 'Vascular lesions',\n",
    "    'df': 'Dermatofibroma'\n",
    "}"
   ]
  },
  {
   "cell_type": "code",
   "execution_count": 4,
   "id": "3b3738cb",
   "metadata": {
    "execution": {
     "iopub.execute_input": "2025-01-12T16:48:22.446682Z",
     "iopub.status.busy": "2025-01-12T16:48:22.446275Z",
     "iopub.status.idle": "2025-01-12T16:48:22.455512Z",
     "shell.execute_reply": "2025-01-12T16:48:22.454543Z"
    },
    "papermill": {
     "duration": 0.019616,
     "end_time": "2025-01-12T16:48:22.457160",
     "exception": false,
     "start_time": "2025-01-12T16:48:22.437544",
     "status": "completed"
    },
    "tags": []
   },
   "outputs": [],
   "source": [
    "def compute_img_mean_std(image_paths):\n",
    "    \"\"\"\n",
    "        computing the mean and std of three channel on the whole dataset,\n",
    "        first we should normalize the image from 0-255 to 0-1\n",
    "    \"\"\"\n",
    "\n",
    "    img_h, img_w = 224, 224\n",
    "    imgs = []\n",
    "    means, stdevs = [], []\n",
    "\n",
    "    for i in tqdm(range(len(image_paths))):\n",
    "        img = cv2.imread(image_paths[i])\n",
    "        img = cv2.resize(img, (img_h, img_w))\n",
    "        imgs.append(img)\n",
    "\n",
    "    imgs = np.stack(imgs, axis=3)\n",
    "    print(imgs.shape)\n",
    "\n",
    "    imgs = imgs.astype(np.float32) / 255.\n",
    "\n",
    "    for i in range(3):\n",
    "        pixels = imgs[:, :, i, :].ravel()  # resize to one row\n",
    "        means.append(np.mean(pixels))\n",
    "        stdevs.append(np.std(pixels))\n",
    "\n",
    "    means.reverse()  # BGR --> RGB\n",
    "    stdevs.reverse()\n",
    "\n",
    "    print(\"normMean = {}\".format(means))\n",
    "    print(\"normStd = {}\".format(stdevs))\n",
    "    return means,stdevs"
   ]
  },
  {
   "cell_type": "code",
   "execution_count": 5,
   "id": "593bd56e",
   "metadata": {
    "execution": {
     "iopub.execute_input": "2025-01-12T16:48:22.475499Z",
     "iopub.status.busy": "2025-01-12T16:48:22.475106Z",
     "iopub.status.idle": "2025-01-12T16:48:22.478998Z",
     "shell.execute_reply": "2025-01-12T16:48:22.478161Z"
    },
    "papermill": {
     "duration": 0.014651,
     "end_time": "2025-01-12T16:48:22.480371",
     "exception": false,
     "start_time": "2025-01-12T16:48:22.465720",
     "status": "completed"
    },
    "tags": []
   },
   "outputs": [],
   "source": [
    "# norm_mean,norm_std = compute_img_mean_std(all_image_path)\n"
   ]
  },
  {
   "cell_type": "code",
   "execution_count": 6,
   "id": "b531f070",
   "metadata": {
    "execution": {
     "iopub.execute_input": "2025-01-12T16:48:22.497075Z",
     "iopub.status.busy": "2025-01-12T16:48:22.496695Z",
     "iopub.status.idle": "2025-01-12T16:48:22.569595Z",
     "shell.execute_reply": "2025-01-12T16:48:22.568468Z"
    },
    "papermill": {
     "duration": 0.083381,
     "end_time": "2025-01-12T16:48:22.571572",
     "exception": false,
     "start_time": "2025-01-12T16:48:22.488191",
     "status": "completed"
    },
    "tags": []
   },
   "outputs": [
    {
     "data": {
      "text/html": [
       "<div>\n",
       "<style scoped>\n",
       "    .dataframe tbody tr th:only-of-type {\n",
       "        vertical-align: middle;\n",
       "    }\n",
       "\n",
       "    .dataframe tbody tr th {\n",
       "        vertical-align: top;\n",
       "    }\n",
       "\n",
       "    .dataframe thead th {\n",
       "        text-align: right;\n",
       "    }\n",
       "</style>\n",
       "<table border=\"1\" class=\"dataframe\">\n",
       "  <thead>\n",
       "    <tr style=\"text-align: right;\">\n",
       "      <th></th>\n",
       "      <th>lesion_id</th>\n",
       "      <th>image_id</th>\n",
       "      <th>dx</th>\n",
       "      <th>dx_type</th>\n",
       "      <th>age</th>\n",
       "      <th>sex</th>\n",
       "      <th>localization</th>\n",
       "      <th>path</th>\n",
       "      <th>cell_type</th>\n",
       "      <th>cell_type_idx</th>\n",
       "    </tr>\n",
       "  </thead>\n",
       "  <tbody>\n",
       "    <tr>\n",
       "      <th>0</th>\n",
       "      <td>HAM_0000118</td>\n",
       "      <td>ISIC_0027419</td>\n",
       "      <td>bkl</td>\n",
       "      <td>histo</td>\n",
       "      <td>80.0</td>\n",
       "      <td>male</td>\n",
       "      <td>scalp</td>\n",
       "      <td>../input/ham10000_images_part_1/ISIC_0027419.jpg</td>\n",
       "      <td>Benign keratosis-like lesions</td>\n",
       "      <td>2</td>\n",
       "    </tr>\n",
       "    <tr>\n",
       "      <th>1</th>\n",
       "      <td>HAM_0000118</td>\n",
       "      <td>ISIC_0025030</td>\n",
       "      <td>bkl</td>\n",
       "      <td>histo</td>\n",
       "      <td>80.0</td>\n",
       "      <td>male</td>\n",
       "      <td>scalp</td>\n",
       "      <td>../input/ham10000_images_part_1/ISIC_0025030.jpg</td>\n",
       "      <td>Benign keratosis-like lesions</td>\n",
       "      <td>2</td>\n",
       "    </tr>\n",
       "    <tr>\n",
       "      <th>2</th>\n",
       "      <td>HAM_0002730</td>\n",
       "      <td>ISIC_0026769</td>\n",
       "      <td>bkl</td>\n",
       "      <td>histo</td>\n",
       "      <td>80.0</td>\n",
       "      <td>male</td>\n",
       "      <td>scalp</td>\n",
       "      <td>../input/ham10000_images_part_1/ISIC_0026769.jpg</td>\n",
       "      <td>Benign keratosis-like lesions</td>\n",
       "      <td>2</td>\n",
       "    </tr>\n",
       "    <tr>\n",
       "      <th>3</th>\n",
       "      <td>HAM_0002730</td>\n",
       "      <td>ISIC_0025661</td>\n",
       "      <td>bkl</td>\n",
       "      <td>histo</td>\n",
       "      <td>80.0</td>\n",
       "      <td>male</td>\n",
       "      <td>scalp</td>\n",
       "      <td>../input/ham10000_images_part_1/ISIC_0025661.jpg</td>\n",
       "      <td>Benign keratosis-like lesions</td>\n",
       "      <td>2</td>\n",
       "    </tr>\n",
       "    <tr>\n",
       "      <th>4</th>\n",
       "      <td>HAM_0001466</td>\n",
       "      <td>ISIC_0031633</td>\n",
       "      <td>bkl</td>\n",
       "      <td>histo</td>\n",
       "      <td>75.0</td>\n",
       "      <td>male</td>\n",
       "      <td>ear</td>\n",
       "      <td>../input/ham10000_images_part_2/ISIC_0031633.jpg</td>\n",
       "      <td>Benign keratosis-like lesions</td>\n",
       "      <td>2</td>\n",
       "    </tr>\n",
       "  </tbody>\n",
       "</table>\n",
       "</div>"
      ],
      "text/plain": [
       "     lesion_id      image_id   dx dx_type   age   sex localization  \\\n",
       "0  HAM_0000118  ISIC_0027419  bkl   histo  80.0  male        scalp   \n",
       "1  HAM_0000118  ISIC_0025030  bkl   histo  80.0  male        scalp   \n",
       "2  HAM_0002730  ISIC_0026769  bkl   histo  80.0  male        scalp   \n",
       "3  HAM_0002730  ISIC_0025661  bkl   histo  80.0  male        scalp   \n",
       "4  HAM_0001466  ISIC_0031633  bkl   histo  75.0  male          ear   \n",
       "\n",
       "                                               path  \\\n",
       "0  ../input/ham10000_images_part_1/ISIC_0027419.jpg   \n",
       "1  ../input/ham10000_images_part_1/ISIC_0025030.jpg   \n",
       "2  ../input/ham10000_images_part_1/ISIC_0026769.jpg   \n",
       "3  ../input/ham10000_images_part_1/ISIC_0025661.jpg   \n",
       "4  ../input/ham10000_images_part_2/ISIC_0031633.jpg   \n",
       "\n",
       "                        cell_type  cell_type_idx  \n",
       "0  Benign keratosis-like lesions               2  \n",
       "1  Benign keratosis-like lesions               2  \n",
       "2  Benign keratosis-like lesions               2  \n",
       "3  Benign keratosis-like lesions               2  \n",
       "4  Benign keratosis-like lesions               2  "
      ]
     },
     "execution_count": 6,
     "metadata": {},
     "output_type": "execute_result"
    }
   ],
   "source": [
    "df_original = pd.read_csv(os.path.join(data_dir, 'HAM10000_metadata.csv'))\n",
    "df_original['path'] = df_original['image_id'].map(imageid_path_dict.get)\n",
    "df_original['cell_type'] = df_original['dx'].map(lesion_type_dict.get)\n",
    "df_original['cell_type_idx'] = pd.Categorical(df_original['cell_type']).codes\n",
    "df_original.head()"
   ]
  },
  {
   "cell_type": "code",
   "execution_count": 7,
   "id": "9c933ef6",
   "metadata": {
    "execution": {
     "iopub.execute_input": "2025-01-12T16:48:22.599012Z",
     "iopub.status.busy": "2025-01-12T16:48:22.598655Z",
     "iopub.status.idle": "2025-01-12T16:48:22.627320Z",
     "shell.execute_reply": "2025-01-12T16:48:22.626338Z"
    },
    "papermill": {
     "duration": 0.040088,
     "end_time": "2025-01-12T16:48:22.629072",
     "exception": false,
     "start_time": "2025-01-12T16:48:22.588984",
     "status": "completed"
    },
    "tags": []
   },
   "outputs": [
    {
     "data": {
      "text/html": [
       "<div>\n",
       "<style scoped>\n",
       "    .dataframe tbody tr th:only-of-type {\n",
       "        vertical-align: middle;\n",
       "    }\n",
       "\n",
       "    .dataframe tbody tr th {\n",
       "        vertical-align: top;\n",
       "    }\n",
       "\n",
       "    .dataframe thead th {\n",
       "        text-align: right;\n",
       "    }\n",
       "</style>\n",
       "<table border=\"1\" class=\"dataframe\">\n",
       "  <thead>\n",
       "    <tr style=\"text-align: right;\">\n",
       "      <th></th>\n",
       "      <th>lesion_id</th>\n",
       "      <th>image_id</th>\n",
       "      <th>dx</th>\n",
       "      <th>dx_type</th>\n",
       "      <th>age</th>\n",
       "      <th>sex</th>\n",
       "      <th>localization</th>\n",
       "      <th>path</th>\n",
       "      <th>cell_type</th>\n",
       "      <th>cell_type_idx</th>\n",
       "    </tr>\n",
       "  </thead>\n",
       "  <tbody>\n",
       "    <tr>\n",
       "      <th>0</th>\n",
       "      <td>HAM_0000001</td>\n",
       "      <td>1</td>\n",
       "      <td>1</td>\n",
       "      <td>1</td>\n",
       "      <td>1</td>\n",
       "      <td>1</td>\n",
       "      <td>1</td>\n",
       "      <td>1</td>\n",
       "      <td>1</td>\n",
       "      <td>1</td>\n",
       "    </tr>\n",
       "    <tr>\n",
       "      <th>1</th>\n",
       "      <td>HAM_0000003</td>\n",
       "      <td>1</td>\n",
       "      <td>1</td>\n",
       "      <td>1</td>\n",
       "      <td>1</td>\n",
       "      <td>1</td>\n",
       "      <td>1</td>\n",
       "      <td>1</td>\n",
       "      <td>1</td>\n",
       "      <td>1</td>\n",
       "    </tr>\n",
       "    <tr>\n",
       "      <th>2</th>\n",
       "      <td>HAM_0000004</td>\n",
       "      <td>1</td>\n",
       "      <td>1</td>\n",
       "      <td>1</td>\n",
       "      <td>1</td>\n",
       "      <td>1</td>\n",
       "      <td>1</td>\n",
       "      <td>1</td>\n",
       "      <td>1</td>\n",
       "      <td>1</td>\n",
       "    </tr>\n",
       "    <tr>\n",
       "      <th>3</th>\n",
       "      <td>HAM_0000007</td>\n",
       "      <td>1</td>\n",
       "      <td>1</td>\n",
       "      <td>1</td>\n",
       "      <td>1</td>\n",
       "      <td>1</td>\n",
       "      <td>1</td>\n",
       "      <td>1</td>\n",
       "      <td>1</td>\n",
       "      <td>1</td>\n",
       "    </tr>\n",
       "    <tr>\n",
       "      <th>4</th>\n",
       "      <td>HAM_0000008</td>\n",
       "      <td>1</td>\n",
       "      <td>1</td>\n",
       "      <td>1</td>\n",
       "      <td>1</td>\n",
       "      <td>1</td>\n",
       "      <td>1</td>\n",
       "      <td>1</td>\n",
       "      <td>1</td>\n",
       "      <td>1</td>\n",
       "    </tr>\n",
       "  </tbody>\n",
       "</table>\n",
       "</div>"
      ],
      "text/plain": [
       "     lesion_id  image_id  dx  dx_type  age  sex  localization  path  \\\n",
       "0  HAM_0000001         1   1        1    1    1             1     1   \n",
       "1  HAM_0000003         1   1        1    1    1             1     1   \n",
       "2  HAM_0000004         1   1        1    1    1             1     1   \n",
       "3  HAM_0000007         1   1        1    1    1             1     1   \n",
       "4  HAM_0000008         1   1        1    1    1             1     1   \n",
       "\n",
       "   cell_type  cell_type_idx  \n",
       "0          1              1  \n",
       "1          1              1  \n",
       "2          1              1  \n",
       "3          1              1  \n",
       "4          1              1  "
      ]
     },
     "execution_count": 7,
     "metadata": {},
     "output_type": "execute_result"
    }
   ],
   "source": [
    "df_undup = df_original.groupby('lesion_id').count()\n",
    "# now we filter out lesion_id's that have only one image associated with it\n",
    "df_undup = df_undup[df_undup['image_id'] == 1]\n",
    "df_undup.reset_index(inplace=True)\n",
    "df_undup.head()"
   ]
  },
  {
   "cell_type": "code",
   "execution_count": 8,
   "id": "ae269fc4",
   "metadata": {
    "execution": {
     "iopub.execute_input": "2025-01-12T16:48:22.656264Z",
     "iopub.status.busy": "2025-01-12T16:48:22.655943Z",
     "iopub.status.idle": "2025-01-12T16:48:26.647255Z",
     "shell.execute_reply": "2025-01-12T16:48:26.646273Z"
    },
    "papermill": {
     "duration": 4.004236,
     "end_time": "2025-01-12T16:48:26.648895",
     "exception": false,
     "start_time": "2025-01-12T16:48:22.644659",
     "status": "completed"
    },
    "tags": []
   },
   "outputs": [
    {
     "data": {
      "text/html": [
       "<div>\n",
       "<style scoped>\n",
       "    .dataframe tbody tr th:only-of-type {\n",
       "        vertical-align: middle;\n",
       "    }\n",
       "\n",
       "    .dataframe tbody tr th {\n",
       "        vertical-align: top;\n",
       "    }\n",
       "\n",
       "    .dataframe thead th {\n",
       "        text-align: right;\n",
       "    }\n",
       "</style>\n",
       "<table border=\"1\" class=\"dataframe\">\n",
       "  <thead>\n",
       "    <tr style=\"text-align: right;\">\n",
       "      <th></th>\n",
       "      <th>lesion_id</th>\n",
       "      <th>image_id</th>\n",
       "      <th>dx</th>\n",
       "      <th>dx_type</th>\n",
       "      <th>age</th>\n",
       "      <th>sex</th>\n",
       "      <th>localization</th>\n",
       "      <th>path</th>\n",
       "      <th>cell_type</th>\n",
       "      <th>cell_type_idx</th>\n",
       "      <th>duplicates</th>\n",
       "    </tr>\n",
       "  </thead>\n",
       "  <tbody>\n",
       "    <tr>\n",
       "      <th>0</th>\n",
       "      <td>HAM_0000118</td>\n",
       "      <td>ISIC_0027419</td>\n",
       "      <td>bkl</td>\n",
       "      <td>histo</td>\n",
       "      <td>80.0</td>\n",
       "      <td>male</td>\n",
       "      <td>scalp</td>\n",
       "      <td>../input/ham10000_images_part_1/ISIC_0027419.jpg</td>\n",
       "      <td>Benign keratosis-like lesions</td>\n",
       "      <td>2</td>\n",
       "      <td>duplicated</td>\n",
       "    </tr>\n",
       "    <tr>\n",
       "      <th>1</th>\n",
       "      <td>HAM_0000118</td>\n",
       "      <td>ISIC_0025030</td>\n",
       "      <td>bkl</td>\n",
       "      <td>histo</td>\n",
       "      <td>80.0</td>\n",
       "      <td>male</td>\n",
       "      <td>scalp</td>\n",
       "      <td>../input/ham10000_images_part_1/ISIC_0025030.jpg</td>\n",
       "      <td>Benign keratosis-like lesions</td>\n",
       "      <td>2</td>\n",
       "      <td>duplicated</td>\n",
       "    </tr>\n",
       "    <tr>\n",
       "      <th>2</th>\n",
       "      <td>HAM_0002730</td>\n",
       "      <td>ISIC_0026769</td>\n",
       "      <td>bkl</td>\n",
       "      <td>histo</td>\n",
       "      <td>80.0</td>\n",
       "      <td>male</td>\n",
       "      <td>scalp</td>\n",
       "      <td>../input/ham10000_images_part_1/ISIC_0026769.jpg</td>\n",
       "      <td>Benign keratosis-like lesions</td>\n",
       "      <td>2</td>\n",
       "      <td>duplicated</td>\n",
       "    </tr>\n",
       "    <tr>\n",
       "      <th>3</th>\n",
       "      <td>HAM_0002730</td>\n",
       "      <td>ISIC_0025661</td>\n",
       "      <td>bkl</td>\n",
       "      <td>histo</td>\n",
       "      <td>80.0</td>\n",
       "      <td>male</td>\n",
       "      <td>scalp</td>\n",
       "      <td>../input/ham10000_images_part_1/ISIC_0025661.jpg</td>\n",
       "      <td>Benign keratosis-like lesions</td>\n",
       "      <td>2</td>\n",
       "      <td>duplicated</td>\n",
       "    </tr>\n",
       "    <tr>\n",
       "      <th>4</th>\n",
       "      <td>HAM_0001466</td>\n",
       "      <td>ISIC_0031633</td>\n",
       "      <td>bkl</td>\n",
       "      <td>histo</td>\n",
       "      <td>75.0</td>\n",
       "      <td>male</td>\n",
       "      <td>ear</td>\n",
       "      <td>../input/ham10000_images_part_2/ISIC_0031633.jpg</td>\n",
       "      <td>Benign keratosis-like lesions</td>\n",
       "      <td>2</td>\n",
       "      <td>duplicated</td>\n",
       "    </tr>\n",
       "  </tbody>\n",
       "</table>\n",
       "</div>"
      ],
      "text/plain": [
       "     lesion_id      image_id   dx dx_type   age   sex localization  \\\n",
       "0  HAM_0000118  ISIC_0027419  bkl   histo  80.0  male        scalp   \n",
       "1  HAM_0000118  ISIC_0025030  bkl   histo  80.0  male        scalp   \n",
       "2  HAM_0002730  ISIC_0026769  bkl   histo  80.0  male        scalp   \n",
       "3  HAM_0002730  ISIC_0025661  bkl   histo  80.0  male        scalp   \n",
       "4  HAM_0001466  ISIC_0031633  bkl   histo  75.0  male          ear   \n",
       "\n",
       "                                               path  \\\n",
       "0  ../input/ham10000_images_part_1/ISIC_0027419.jpg   \n",
       "1  ../input/ham10000_images_part_1/ISIC_0025030.jpg   \n",
       "2  ../input/ham10000_images_part_1/ISIC_0026769.jpg   \n",
       "3  ../input/ham10000_images_part_1/ISIC_0025661.jpg   \n",
       "4  ../input/ham10000_images_part_2/ISIC_0031633.jpg   \n",
       "\n",
       "                        cell_type  cell_type_idx  duplicates  \n",
       "0  Benign keratosis-like lesions               2  duplicated  \n",
       "1  Benign keratosis-like lesions               2  duplicated  \n",
       "2  Benign keratosis-like lesions               2  duplicated  \n",
       "3  Benign keratosis-like lesions               2  duplicated  \n",
       "4  Benign keratosis-like lesions               2  duplicated  "
      ]
     },
     "execution_count": 8,
     "metadata": {},
     "output_type": "execute_result"
    }
   ],
   "source": [
    "def get_duplicates(x):\n",
    "    unique_list = list(df_undup['lesion_id'])\n",
    "    if x in unique_list:\n",
    "        return 'unduplicated'\n",
    "    else:\n",
    "        return 'duplicated'\n",
    "\n",
    "# create a new colum that is a copy of the lesion_id column\n",
    "df_original['duplicates'] = df_original['lesion_id']\n",
    "# apply the function to this new column\n",
    "df_original['duplicates'] = df_original['duplicates'].apply(get_duplicates)\n",
    "df_original.head()"
   ]
  },
  {
   "cell_type": "code",
   "execution_count": 9,
   "id": "7cff300c",
   "metadata": {
    "execution": {
     "iopub.execute_input": "2025-01-12T16:48:26.667468Z",
     "iopub.status.busy": "2025-01-12T16:48:26.667120Z",
     "iopub.status.idle": "2025-01-12T16:48:26.676433Z",
     "shell.execute_reply": "2025-01-12T16:48:26.675478Z"
    },
    "papermill": {
     "duration": 0.020258,
     "end_time": "2025-01-12T16:48:26.677826",
     "exception": false,
     "start_time": "2025-01-12T16:48:26.657568",
     "status": "completed"
    },
    "tags": []
   },
   "outputs": [
    {
     "data": {
      "text/plain": [
       "duplicates\n",
       "unduplicated    5514\n",
       "duplicated      4501\n",
       "Name: count, dtype: int64"
      ]
     },
     "execution_count": 9,
     "metadata": {},
     "output_type": "execute_result"
    }
   ],
   "source": [
    "df_original['duplicates'].value_counts()\n"
   ]
  },
  {
   "cell_type": "code",
   "execution_count": 10,
   "id": "7fec26a0",
   "metadata": {
    "execution": {
     "iopub.execute_input": "2025-01-12T16:48:26.697698Z",
     "iopub.status.busy": "2025-01-12T16:48:26.697329Z",
     "iopub.status.idle": "2025-01-12T16:48:26.706450Z",
     "shell.execute_reply": "2025-01-12T16:48:26.705633Z"
    },
    "papermill": {
     "duration": 0.020434,
     "end_time": "2025-01-12T16:48:26.707780",
     "exception": false,
     "start_time": "2025-01-12T16:48:26.687346",
     "status": "completed"
    },
    "tags": []
   },
   "outputs": [
    {
     "data": {
      "text/plain": [
       "(5514, 11)"
      ]
     },
     "execution_count": 10,
     "metadata": {},
     "output_type": "execute_result"
    }
   ],
   "source": [
    "# now we filter out images that don't have duplicates\n",
    "df_undup = df_original[df_original['duplicates'] == 'unduplicated']\n",
    "df_undup.shape"
   ]
  },
  {
   "cell_type": "code",
   "execution_count": 11,
   "id": "25b97a70",
   "metadata": {
    "execution": {
     "iopub.execute_input": "2025-01-12T16:48:26.725484Z",
     "iopub.status.busy": "2025-01-12T16:48:26.725160Z",
     "iopub.status.idle": "2025-01-12T16:48:26.738284Z",
     "shell.execute_reply": "2025-01-12T16:48:26.737338Z"
    },
    "papermill": {
     "duration": 0.023778,
     "end_time": "2025-01-12T16:48:26.739846",
     "exception": false,
     "start_time": "2025-01-12T16:48:26.716068",
     "status": "completed"
    },
    "tags": []
   },
   "outputs": [
    {
     "data": {
      "text/plain": [
       "(1103, 11)"
      ]
     },
     "execution_count": 11,
     "metadata": {},
     "output_type": "execute_result"
    }
   ],
   "source": [
    "# now we create a val set using df because we are sure that none of these images have augmented duplicates in the train set\n",
    "y = df_undup['cell_type_idx']\n",
    "_, df_val = train_test_split(df_undup, test_size=0.2, random_state=101, stratify=y)\n",
    "df_val.shape"
   ]
  },
  {
   "cell_type": "code",
   "execution_count": 12,
   "id": "6047143e",
   "metadata": {
    "execution": {
     "iopub.execute_input": "2025-01-12T16:48:26.757539Z",
     "iopub.status.busy": "2025-01-12T16:48:26.757214Z",
     "iopub.status.idle": "2025-01-12T16:48:26.765770Z",
     "shell.execute_reply": "2025-01-12T16:48:26.765023Z"
    },
    "papermill": {
     "duration": 0.018775,
     "end_time": "2025-01-12T16:48:26.767095",
     "exception": false,
     "start_time": "2025-01-12T16:48:26.748320",
     "status": "completed"
    },
    "tags": []
   },
   "outputs": [
    {
     "data": {
      "text/plain": [
       "cell_type_idx\n",
       "4    883\n",
       "2     88\n",
       "6     46\n",
       "1     35\n",
       "0     30\n",
       "5     13\n",
       "3      8\n",
       "Name: count, dtype: int64"
      ]
     },
     "execution_count": 12,
     "metadata": {},
     "output_type": "execute_result"
    }
   ],
   "source": [
    "df_val['cell_type_idx'].value_counts()"
   ]
  },
  {
   "cell_type": "code",
   "execution_count": 13,
   "id": "f39976e5",
   "metadata": {
    "execution": {
     "iopub.execute_input": "2025-01-12T16:48:26.785431Z",
     "iopub.status.busy": "2025-01-12T16:48:26.785102Z",
     "iopub.status.idle": "2025-01-12T16:48:27.652410Z",
     "shell.execute_reply": "2025-01-12T16:48:27.651376Z"
    },
    "papermill": {
     "duration": 0.878144,
     "end_time": "2025-01-12T16:48:27.653961",
     "exception": false,
     "start_time": "2025-01-12T16:48:26.775817",
     "status": "completed"
    },
    "tags": []
   },
   "outputs": [
    {
     "name": "stdout",
     "output_type": "stream",
     "text": [
      "8912\n",
      "1103\n"
     ]
    }
   ],
   "source": [
    "# This set will be df_original excluding all rows that are in the val set\n",
    "# This function identifies if an image is part of the train or val set.\n",
    "def get_val_rows(x):\n",
    "    # create a list of all the lesion_id's in the val set\n",
    "    val_list = list(df_val['image_id'])\n",
    "    if str(x) in val_list:\n",
    "        return 'val'\n",
    "    else:\n",
    "        return 'train'\n",
    "\n",
    "# identify train and val rows\n",
    "# create a new colum that is a copy of the image_id column\n",
    "df_original['train_or_val'] = df_original['image_id']\n",
    "# apply the function to this new column\n",
    "df_original['train_or_val'] = df_original['train_or_val'].apply(get_val_rows)\n",
    "# filter out train rows\n",
    "df_train = df_original[df_original['train_or_val'] == 'train']\n",
    "print(len(df_train))\n",
    "print(len(df_val))"
   ]
  },
  {
   "cell_type": "code",
   "execution_count": 14,
   "id": "07c08454",
   "metadata": {
    "execution": {
     "iopub.execute_input": "2025-01-12T16:48:27.673737Z",
     "iopub.status.busy": "2025-01-12T16:48:27.673393Z",
     "iopub.status.idle": "2025-01-12T16:48:27.679654Z",
     "shell.execute_reply": "2025-01-12T16:48:27.678838Z"
    },
    "papermill": {
     "duration": 0.017089,
     "end_time": "2025-01-12T16:48:27.680968",
     "exception": false,
     "start_time": "2025-01-12T16:48:27.663879",
     "status": "completed"
    },
    "tags": []
   },
   "outputs": [
    {
     "data": {
      "text/plain": [
       "cell_type_idx\n",
       "4    5822\n",
       "6    1067\n",
       "2    1011\n",
       "1     479\n",
       "0     297\n",
       "5     129\n",
       "3     107\n",
       "Name: count, dtype: int64"
      ]
     },
     "execution_count": 14,
     "metadata": {},
     "output_type": "execute_result"
    }
   ],
   "source": [
    "df_train['cell_type_idx'].value_counts()"
   ]
  },
  {
   "cell_type": "code",
   "execution_count": 15,
   "id": "a4badd6b",
   "metadata": {
    "execution": {
     "iopub.execute_input": "2025-01-12T16:48:27.698915Z",
     "iopub.status.busy": "2025-01-12T16:48:27.698585Z",
     "iopub.status.idle": "2025-01-12T16:48:27.704821Z",
     "shell.execute_reply": "2025-01-12T16:48:27.703988Z"
    },
    "papermill": {
     "duration": 0.016701,
     "end_time": "2025-01-12T16:48:27.706053",
     "exception": false,
     "start_time": "2025-01-12T16:48:27.689352",
     "status": "completed"
    },
    "tags": []
   },
   "outputs": [
    {
     "data": {
      "text/plain": [
       "cell_type_idx\n",
       "4    883\n",
       "2     88\n",
       "6     46\n",
       "1     35\n",
       "0     30\n",
       "5     13\n",
       "3      8\n",
       "Name: count, dtype: int64"
      ]
     },
     "execution_count": 15,
     "metadata": {},
     "output_type": "execute_result"
    }
   ],
   "source": [
    "df_val['cell_type_idx'].value_counts()"
   ]
  },
  {
   "cell_type": "code",
   "execution_count": 16,
   "id": "e4b805c6",
   "metadata": {
    "execution": {
     "iopub.execute_input": "2025-01-12T16:48:27.724416Z",
     "iopub.status.busy": "2025-01-12T16:48:27.724117Z",
     "iopub.status.idle": "2025-01-12T16:48:27.753297Z",
     "shell.execute_reply": "2025-01-12T16:48:27.752189Z"
    },
    "papermill": {
     "duration": 0.040203,
     "end_time": "2025-01-12T16:48:27.755004",
     "exception": false,
     "start_time": "2025-01-12T16:48:27.714801",
     "status": "completed"
    },
    "tags": []
   },
   "outputs": [
    {
     "name": "stdout",
     "output_type": "stream",
     "text": [
      "cell_type\n",
      "Melanocytic nevi                  883\n",
      "Dermatofibroma                    880\n",
      "Benign keratosis-like lesions     880\n",
      "Basal cell carcinoma              875\n",
      "dermatofibroma                    874\n",
      "Vascular lesions                  871\n",
      "Actinic keratoses                 870\n",
      "Name: count, dtype: int64\n"
     ]
    }
   ],
   "source": [
    "data_aug_rate = [29, 25, 10, 110, 0, 67, 19]\n",
    "\n",
    "# Liste pour stocker les DataFrames à concaténer\n",
    "dataframes = [df_val]\n",
    "\n",
    "for i in range(7):\n",
    "    if data_aug_rate[i]:\n",
    "        # Créer des copies des données de la classe actuelle\n",
    "        repeated_data = [df_val[df_val['cell_type_idx'] == i]] * (data_aug_rate[i] - 1)\n",
    "        # Ajouter à la liste\n",
    "        dataframes.append(pd.concat(repeated_data, ignore_index=True))\n",
    "\n",
    "# Concaténer tous les DataFrames\n",
    "df_val1 = pd.concat(dataframes, ignore_index=True)\n",
    "\n",
    "# Vérifier les nouvelles distributions\n",
    "print(df_val1['cell_type'].value_counts())\n"
   ]
  },
  {
   "cell_type": "code",
   "execution_count": 17,
   "id": "6a3c6286",
   "metadata": {
    "execution": {
     "iopub.execute_input": "2025-01-12T16:48:27.774752Z",
     "iopub.status.busy": "2025-01-12T16:48:27.774372Z",
     "iopub.status.idle": "2025-01-12T16:48:27.804883Z",
     "shell.execute_reply": "2025-01-12T16:48:27.803795Z"
    },
    "papermill": {
     "duration": 0.041634,
     "end_time": "2025-01-12T16:48:27.806460",
     "exception": false,
     "start_time": "2025-01-12T16:48:27.764826",
     "status": "completed"
    },
    "tags": []
   },
   "outputs": [
    {
     "name": "stdout",
     "output_type": "stream",
     "text": [
      "cell_type\n",
      "Melanocytic nevi                  5822\n",
      "Dermatofibroma                    5350\n",
      "dermatofibroma                    5335\n",
      "Vascular lesions                  5160\n",
      "Benign keratosis-like lesions     5055\n",
      "Basal cell carcinoma              4790\n",
      "Actinic keratoses                 4455\n",
      "Name: count, dtype: int64\n"
     ]
    }
   ],
   "source": [
    "data_aug_rate = [15, 10, 5, 50, 0, 40, 5]\n",
    "\n",
    "# Liste pour stocker les DataFrames à concaténer\n",
    "dataframes = [df_train]\n",
    "\n",
    "for i in range(7):\n",
    "    if data_aug_rate[i]:\n",
    "        # Créer des copies des données de la classe actuelle\n",
    "        repeated_data = [df_train[df_train['cell_type_idx'] == i]] * (data_aug_rate[i] - 1)\n",
    "        # Ajouter à la liste\n",
    "        dataframes.append(pd.concat(repeated_data, ignore_index=True))\n",
    "\n",
    "# Concaténer tous les DataFrames\n",
    "df_train = pd.concat(dataframes, ignore_index=True)\n",
    "\n",
    "# Vérifier les nouvelles distributions\n",
    "print(df_train['cell_type'].value_counts())\n"
   ]
  },
  {
   "cell_type": "code",
   "execution_count": 18,
   "id": "b8d6c807",
   "metadata": {
    "execution": {
     "iopub.execute_input": "2025-01-12T16:48:27.826161Z",
     "iopub.status.busy": "2025-01-12T16:48:27.825866Z",
     "iopub.status.idle": "2025-01-12T16:48:27.847739Z",
     "shell.execute_reply": "2025-01-12T16:48:27.846902Z"
    },
    "papermill": {
     "duration": 0.033059,
     "end_time": "2025-01-12T16:48:27.849285",
     "exception": false,
     "start_time": "2025-01-12T16:48:27.816226",
     "status": "completed"
    },
    "tags": []
   },
   "outputs": [],
   "source": [
    "# # We can split the test set again in a validation set and a true test set:\n",
    "# df_val, df_test = train_test_split(df_val, test_size=0.5)\n",
    "df_train = df_train.reset_index()\n",
    "df_val = df_val.reset_index()\n",
    "# df_test = df_test.reset_index()"
   ]
  },
  {
   "cell_type": "code",
   "execution_count": 19,
   "id": "12103ec2",
   "metadata": {
    "execution": {
     "iopub.execute_input": "2025-01-12T16:48:27.867956Z",
     "iopub.status.busy": "2025-01-12T16:48:27.867660Z",
     "iopub.status.idle": "2025-01-12T16:48:27.872424Z",
     "shell.execute_reply": "2025-01-12T16:48:27.871739Z"
    },
    "papermill": {
     "duration": 0.01566,
     "end_time": "2025-01-12T16:48:27.873807",
     "exception": false,
     "start_time": "2025-01-12T16:48:27.858147",
     "status": "completed"
    },
    "tags": []
   },
   "outputs": [
    {
     "data": {
      "text/plain": [
       "(35967, 13)"
      ]
     },
     "execution_count": 19,
     "metadata": {},
     "output_type": "execute_result"
    }
   ],
   "source": [
    "df_train.shape"
   ]
  },
  {
   "cell_type": "code",
   "execution_count": 20,
   "id": "1ce67034",
   "metadata": {
    "execution": {
     "iopub.execute_input": "2025-01-12T16:48:27.893050Z",
     "iopub.status.busy": "2025-01-12T16:48:27.892702Z",
     "iopub.status.idle": "2025-01-12T16:48:27.897636Z",
     "shell.execute_reply": "2025-01-12T16:48:27.896885Z"
    },
    "papermill": {
     "duration": 0.015821,
     "end_time": "2025-01-12T16:48:27.898991",
     "exception": false,
     "start_time": "2025-01-12T16:48:27.883170",
     "status": "completed"
    },
    "tags": []
   },
   "outputs": [
    {
     "data": {
      "text/plain": [
       "(35967, 13)"
      ]
     },
     "execution_count": 20,
     "metadata": {},
     "output_type": "execute_result"
    }
   ],
   "source": [
    "df_train.shape"
   ]
  },
  {
   "cell_type": "markdown",
   "id": "561da144",
   "metadata": {
    "papermill": {
     "duration": 0.008325,
     "end_time": "2025-01-12T16:48:27.916380",
     "exception": false,
     "start_time": "2025-01-12T16:48:27.908055",
     "status": "completed"
    },
    "tags": []
   },
   "source": [
    "## Step 2. Model building"
   ]
  },
  {
   "cell_type": "code",
   "execution_count": 21,
   "id": "f520ad1c",
   "metadata": {
    "execution": {
     "iopub.execute_input": "2025-01-12T16:48:27.935391Z",
     "iopub.status.busy": "2025-01-12T16:48:27.935099Z",
     "iopub.status.idle": "2025-01-12T16:48:27.938986Z",
     "shell.execute_reply": "2025-01-12T16:48:27.938199Z"
    },
    "papermill": {
     "duration": 0.014856,
     "end_time": "2025-01-12T16:48:27.940264",
     "exception": false,
     "start_time": "2025-01-12T16:48:27.925408",
     "status": "completed"
    },
    "tags": []
   },
   "outputs": [],
   "source": [
    "# feature_extract is a boolean that defines if we are finetuning or feature extracting. \n",
    "# If feature_extract = False, the model is finetuned and all model parameters are updated. \n",
    "# If feature_extract = True, only the last layer parameters are updated, the others remain fixed.\n",
    "def set_parameter_requires_grad(model, feature_extracting):\n",
    "    if feature_extracting:\n",
    "        for param in model.parameters():\n",
    "            param.requires_grad = False"
   ]
  },
  {
   "cell_type": "code",
   "execution_count": 22,
   "id": "1c9a26f4",
   "metadata": {
    "execution": {
     "iopub.execute_input": "2025-01-12T16:48:27.959551Z",
     "iopub.status.busy": "2025-01-12T16:48:27.959232Z",
     "iopub.status.idle": "2025-01-12T16:48:27.966308Z",
     "shell.execute_reply": "2025-01-12T16:48:27.965649Z"
    },
    "papermill": {
     "duration": 0.01839,
     "end_time": "2025-01-12T16:48:27.967719",
     "exception": false,
     "start_time": "2025-01-12T16:48:27.949329",
     "status": "completed"
    },
    "tags": []
   },
   "outputs": [],
   "source": [
    "def initialize_model(model_name, num_classes, feature_extract, use_pretrained=True):\n",
    "    # Initialize these variables which will be set in this if statement. Each of these\n",
    "    #   variables is model specific.\n",
    "    model_ft = None\n",
    "    input_size = 0\n",
    "\n",
    "    if model_name == \"resnet\":\n",
    "        \"\"\" Resnet18, resnet34, resnet50, resnet101\n",
    "        \"\"\"\n",
    "        model_ft = models.resnet50(pretrained=use_pretrained)\n",
    "        set_parameter_requires_grad(model_ft, feature_extract)\n",
    "        num_ftrs = model_ft.fc.in_features\n",
    "        model_ft.fc = nn.Linear(num_ftrs, num_classes)\n",
    "        input_size = 224\n",
    "\n",
    "\n",
    "    elif model_name == \"vgg\":\n",
    "        \"\"\" VGG11_bn\n",
    "        \"\"\"\n",
    "        model_ft = models.vgg11_bn(pretrained=use_pretrained)\n",
    "        set_parameter_requires_grad(model_ft, feature_extract)\n",
    "        num_ftrs = model_ft.classifier[6].in_features\n",
    "        model_ft.classifier[6] = nn.Linear(num_ftrs,num_classes)\n",
    "        input_size = 224\n",
    "        \n",
    "    elif model_name == \"efficientnet\":\n",
    "        \"\"\" EfficientNet-B0 \"\"\"\n",
    "        model_ft = models.efficientnet_b0(pretrained=use_pretrained)\n",
    "        set_parameter_requires_grad(model_ft, feature_extract)\n",
    "        num_ftrs = model_ft.classifier[1].in_features\n",
    "        model_ft.classifier[1] = nn.Linear(num_ftrs, num_classes)\n",
    "        input_size = 224\n",
    "\n",
    "\n",
    "    elif model_name == \"densenet\":\n",
    "        \"\"\" Densenet121\n",
    "        \"\"\"\n",
    "        model_ft = models.densenet121(pretrained=use_pretrained)\n",
    "        set_parameter_requires_grad(model_ft, feature_extract)\n",
    "        num_ftrs = model_ft.classifier.in_features\n",
    "        model_ft.classifier = nn.Linear(num_ftrs, num_classes)\n",
    "        input_size = 224\n",
    "\n",
    "    elif model_name == \"inception\":\n",
    "        \"\"\" Inception v3\n",
    "        Be careful, expects (299,299) sized images and has auxiliary output\n",
    "        \"\"\"\n",
    "        model_ft = models.inception_v3(pretrained=use_pretrained)\n",
    "        set_parameter_requires_grad(model_ft, feature_extract)\n",
    "        # Handle the auxilary net\n",
    "        num_ftrs = model_ft.AuxLogits.fc.in_features\n",
    "        model_ft.AuxLogits.fc = nn.Linear(num_ftrs, num_classes)\n",
    "        # Handle the primary net\n",
    "        num_ftrs = model_ft.fc.in_features\n",
    "        model_ft.fc = nn.Linear(num_ftrs,num_classes)\n",
    "        input_size = 299\n",
    "\n",
    "    else:\n",
    "        print(\"Invalid model name, exiting...\")\n",
    "        exit()\n",
    "    return model_ft, input_size"
   ]
  },
  {
   "cell_type": "code",
   "execution_count": 23,
   "id": "a80836cc",
   "metadata": {
    "execution": {
     "iopub.execute_input": "2025-01-12T16:48:27.986884Z",
     "iopub.status.busy": "2025-01-12T16:48:27.986492Z",
     "iopub.status.idle": "2025-01-12T16:48:28.822138Z",
     "shell.execute_reply": "2025-01-12T16:48:28.821018Z"
    },
    "papermill": {
     "duration": 0.847354,
     "end_time": "2025-01-12T16:48:28.823985",
     "exception": false,
     "start_time": "2025-01-12T16:48:27.976631",
     "status": "completed"
    },
    "tags": []
   },
   "outputs": [
    {
     "name": "stderr",
     "output_type": "stream",
     "text": [
      "/usr/local/lib/python3.10/dist-packages/torchvision/models/_utils.py:208: UserWarning: The parameter 'pretrained' is deprecated since 0.13 and may be removed in the future, please use 'weights' instead.\n",
      "  warnings.warn(\n",
      "/usr/local/lib/python3.10/dist-packages/torchvision/models/_utils.py:223: UserWarning: Arguments other than a weight enum or `None` for 'weights' are deprecated since 0.13 and may be removed in the future. The current behavior is equivalent to passing `weights=DenseNet121_Weights.IMAGENET1K_V1`. You can also use `weights=DenseNet121_Weights.DEFAULT` to get the most up-to-date weights.\n",
      "  warnings.warn(msg)\n",
      "Downloading: \"https://download.pytorch.org/models/densenet121-a639ec97.pth\" to /root/.cache/torch/hub/checkpoints/densenet121-a639ec97.pth\n",
      "100%|██████████| 30.8M/30.8M [00:00<00:00, 210MB/s]\n"
     ]
    }
   ],
   "source": [
    "# EfficientNet\n",
    "model_name = 'densenet'\n",
    "num_classes = 7\n",
    "feature_extract = False\n",
    "\n",
    "# Initialize the model for this run\n",
    "model_ft, input_size = initialize_model(model_name, num_classes, feature_extract, use_pretrained=True)\n",
    "\n",
    "# Define the device:\n",
    "device = torch.device('cuda:0' if torch.cuda.is_available() else 'cpu')\n",
    "\n",
    "# Put the model on the device:\n",
    "model = model_ft.to(device)\n"
   ]
  },
  {
   "cell_type": "code",
   "execution_count": 24,
   "id": "04169e97",
   "metadata": {
    "execution": {
     "iopub.execute_input": "2025-01-12T16:48:28.843731Z",
     "iopub.status.busy": "2025-01-12T16:48:28.843376Z",
     "iopub.status.idle": "2025-01-12T16:48:28.848720Z",
     "shell.execute_reply": "2025-01-12T16:48:28.847890Z"
    },
    "papermill": {
     "duration": 0.016688,
     "end_time": "2025-01-12T16:48:28.850006",
     "exception": false,
     "start_time": "2025-01-12T16:48:28.833318",
     "status": "completed"
    },
    "tags": []
   },
   "outputs": [],
   "source": [
    " norm_mean = (0.49139968, 0.48215827, 0.44653124)\n",
    " norm_std = (0.24703233, 0.24348505, 0.26158768)\n",
    "# define the transformation of the train images.\n",
    "train_transform = transforms.Compose([transforms.Resize((input_size,input_size)),transforms.RandomHorizontalFlip(),\n",
    "                                      transforms.RandomVerticalFlip(),transforms.RandomRotation(20),\n",
    "                                      transforms.ColorJitter(brightness=0.1, contrast=0.1, hue=0.1),\n",
    "                                        transforms.ToTensor(), transforms.Normalize(norm_mean, norm_std)])\n",
    "# define the transformation of the val images.\n",
    "val_transform = transforms.Compose([transforms.Resize((input_size,input_size)), transforms.ToTensor(),\n",
    "                                    transforms.Normalize(norm_mean, norm_std)])"
   ]
  },
  {
   "cell_type": "code",
   "execution_count": 25,
   "id": "51896660",
   "metadata": {
    "execution": {
     "iopub.execute_input": "2025-01-12T16:48:28.869988Z",
     "iopub.status.busy": "2025-01-12T16:48:28.869675Z",
     "iopub.status.idle": "2025-01-12T16:48:28.874424Z",
     "shell.execute_reply": "2025-01-12T16:48:28.873534Z"
    },
    "papermill": {
     "duration": 0.016394,
     "end_time": "2025-01-12T16:48:28.875752",
     "exception": false,
     "start_time": "2025-01-12T16:48:28.859358",
     "status": "completed"
    },
    "tags": []
   },
   "outputs": [],
   "source": [
    "# Define a pytorch dataloader for this dataset\n",
    "class HAM10000(Dataset):\n",
    "    def __init__(self, df, transform=None):\n",
    "        self.df = df\n",
    "        self.transform = transform\n",
    "\n",
    "    def __len__(self):\n",
    "        return len(self.df)\n",
    "\n",
    "    def __getitem__(self, index):\n",
    "        # Load data and get label\n",
    "        X = Image.open(self.df['path'][index])\n",
    "        y = torch.tensor(int(self.df['cell_type_idx'][index]))\n",
    "\n",
    "        if self.transform:\n",
    "            X = self.transform(X)\n",
    "\n",
    "        return X, y"
   ]
  },
  {
   "cell_type": "code",
   "execution_count": 26,
   "id": "c0478c56",
   "metadata": {
    "execution": {
     "iopub.execute_input": "2025-01-12T16:48:28.895208Z",
     "iopub.status.busy": "2025-01-12T16:48:28.894924Z",
     "iopub.status.idle": "2025-01-12T16:48:28.899955Z",
     "shell.execute_reply": "2025-01-12T16:48:28.899205Z"
    },
    "papermill": {
     "duration": 0.016264,
     "end_time": "2025-01-12T16:48:28.901312",
     "exception": false,
     "start_time": "2025-01-12T16:48:28.885048",
     "status": "completed"
    },
    "tags": []
   },
   "outputs": [],
   "source": [
    "# Define the training set using the table train_df and using our defined transitions (train_transform)\n",
    "training_set = HAM10000(df_train, transform=train_transform)\n",
    "train_loader = DataLoader(training_set, batch_size=32, shuffle=True, num_workers=4)\n",
    "# Same for the validation set:\n",
    "validation_set = HAM10000(df_val, transform=train_transform)\n",
    "validation_set1 = HAM10000(df_val1, transform=train_transform)\n",
    "val_loader = DataLoader(validation_set, batch_size=32, shuffle=False, num_workers=4)\n",
    "val_loader1 = DataLoader(validation_set1, batch_size=32, shuffle=False, num_workers=4)"
   ]
  },
  {
   "cell_type": "code",
   "execution_count": 27,
   "id": "5c7dce32",
   "metadata": {
    "execution": {
     "iopub.execute_input": "2025-01-12T16:48:28.921840Z",
     "iopub.status.busy": "2025-01-12T16:48:28.921475Z",
     "iopub.status.idle": "2025-01-12T16:48:31.109167Z",
     "shell.execute_reply": "2025-01-12T16:48:31.108127Z"
    },
    "papermill": {
     "duration": 2.199521,
     "end_time": "2025-01-12T16:48:31.110752",
     "exception": false,
     "start_time": "2025-01-12T16:48:28.911231",
     "status": "completed"
    },
    "tags": []
   },
   "outputs": [
    {
     "name": "stdout",
     "output_type": "stream",
     "text": [
      "tensor([5, 5, 5, 6, 6, 1, 1, 3, 6, 6, 2, 1, 3, 6, 0, 3, 5, 6, 2, 3, 2, 1, 5, 1,\n",
      "        5, 0, 4, 0, 4, 3, 0, 4], device='cuda:0')\n"
     ]
    }
   ],
   "source": [
    "for i, data in enumerate(train_loader):\n",
    "    images, labels = data\n",
    "    N = images.size(0)\n",
    "    images = Variable(images).to(device)\n",
    "    labels = Variable(labels).to(device)\n",
    "    print(labels)\n",
    "    break"
   ]
  },
  {
   "cell_type": "code",
   "execution_count": 28,
   "id": "741b431b",
   "metadata": {
    "execution": {
     "iopub.execute_input": "2025-01-12T16:48:31.131455Z",
     "iopub.status.busy": "2025-01-12T16:48:31.131143Z",
     "iopub.status.idle": "2025-01-12T16:48:31.136381Z",
     "shell.execute_reply": "2025-01-12T16:48:31.135384Z"
    },
    "papermill": {
     "duration": 0.017082,
     "end_time": "2025-01-12T16:48:31.137767",
     "exception": false,
     "start_time": "2025-01-12T16:48:31.120685",
     "status": "completed"
    },
    "tags": []
   },
   "outputs": [
    {
     "name": "stdout",
     "output_type": "stream",
     "text": [
      "Version de PyTorch : 2.4.1+cu121\n",
      "Version de CUDA supportée : 12.1\n"
     ]
    }
   ],
   "source": [
    "import torch\n",
    "\n",
    "# Afficher la version de PyTorch\n",
    "print(\"Version de PyTorch :\", torch.__version__)\n",
    "\n",
    "# Vérifier la version de CUDA utilisée par PyTorch (si disponible)\n",
    "if torch.cuda.is_available():\n",
    "    print(\"Version de CUDA supportée :\", torch.version.cuda)\n",
    "else:\n",
    "    print(\"CUDA n'est pas disponible.\")\n"
   ]
  },
  {
   "cell_type": "code",
   "execution_count": 29,
   "id": "63dd9d86",
   "metadata": {
    "execution": {
     "iopub.execute_input": "2025-01-12T16:48:31.157396Z",
     "iopub.status.busy": "2025-01-12T16:48:31.157109Z",
     "iopub.status.idle": "2025-01-12T16:48:31.165440Z",
     "shell.execute_reply": "2025-01-12T16:48:31.164749Z"
    },
    "papermill": {
     "duration": 0.019513,
     "end_time": "2025-01-12T16:48:31.166709",
     "exception": false,
     "start_time": "2025-01-12T16:48:31.147196",
     "status": "completed"
    },
    "tags": []
   },
   "outputs": [],
   "source": [
    "# Utilisation de SGD comme optimiseur\n",
    "optimizer = optim.SGD(model.parameters(), lr=1e-3, momentum=0.9)\n",
    "\n",
    "# Implémentation de la Focal Loss\n",
    "class FocalLoss(nn.Module):\n",
    "    def __init__(self, gamma=2.0, alpha=1.0, reduction='mean'):\n",
    "        super(FocalLoss, self).__init__()\n",
    "        self.gamma = gamma\n",
    "        self.alpha = alpha\n",
    "        self.reduction = reduction\n",
    "\n",
    "    def forward(self, inputs, targets):\n",
    "        ce_loss = nn.CrossEntropyLoss(reduction='none')(inputs, targets)\n",
    "        pt = torch.exp(-ce_loss)  # pt is the probability of the true class\n",
    "        focal_loss = self.alpha * (1 - pt) ** self.gamma * ce_loss\n",
    "\n",
    "        if self.reduction == 'mean':\n",
    "            return focal_loss.mean()\n",
    "        elif self.reduction == 'sum':\n",
    "            return focal_loss.sum()\n",
    "        else:\n",
    "            return focal_loss\n",
    "\n",
    "# Utilisation de Focal Loss comme fonction de perte\n",
    "criterion = FocalLoss(gamma=2.0, alpha=1.0).to(device)\n"
   ]
  },
  {
   "cell_type": "markdown",
   "id": "ced5f489",
   "metadata": {
    "papermill": {
     "duration": 0.009286,
     "end_time": "2025-01-12T16:48:31.185837",
     "exception": false,
     "start_time": "2025-01-12T16:48:31.176551",
     "status": "completed"
    },
    "tags": []
   },
   "source": [
    "## Step 3. Model training"
   ]
  },
  {
   "cell_type": "code",
   "execution_count": 30,
   "id": "eb7080cc",
   "metadata": {
    "execution": {
     "iopub.execute_input": "2025-01-12T16:48:31.205659Z",
     "iopub.status.busy": "2025-01-12T16:48:31.205282Z",
     "iopub.status.idle": "2025-01-12T16:48:31.210187Z",
     "shell.execute_reply": "2025-01-12T16:48:31.209434Z"
    },
    "papermill": {
     "duration": 0.01629,
     "end_time": "2025-01-12T16:48:31.211336",
     "exception": false,
     "start_time": "2025-01-12T16:48:31.195046",
     "status": "completed"
    },
    "tags": []
   },
   "outputs": [],
   "source": [
    "# this function is used during training process, to calculation the loss and accuracy\n",
    "class AverageMeter(object):\n",
    "    def __init__(self):\n",
    "        self.reset()\n",
    "\n",
    "    def reset(self):\n",
    "        self.val = 0\n",
    "        self.avg = 0\n",
    "        self.sum = 0\n",
    "        self.count = 0\n",
    "\n",
    "    def update(self, val, n=1):\n",
    "        self.val = val\n",
    "        self.sum += val * n\n",
    "        self.count += n\n",
    "        self.avg = self.sum / self.count"
   ]
  },
  {
   "cell_type": "code",
   "execution_count": 31,
   "id": "53f2202a",
   "metadata": {
    "execution": {
     "iopub.execute_input": "2025-01-12T16:48:31.231065Z",
     "iopub.status.busy": "2025-01-12T16:48:31.230750Z",
     "iopub.status.idle": "2025-01-12T16:48:31.237345Z",
     "shell.execute_reply": "2025-01-12T16:48:31.236622Z"
    },
    "papermill": {
     "duration": 0.017998,
     "end_time": "2025-01-12T16:48:31.238756",
     "exception": false,
     "start_time": "2025-01-12T16:48:31.220758",
     "status": "completed"
    },
    "tags": []
   },
   "outputs": [],
   "source": [
    "total_loss_train, total_acc_train = [],[]\n",
    "def train(train_loader, model, criterion, optimizer, epoch):\n",
    "    model.train()\n",
    "    train_loss = AverageMeter()\n",
    "    train_acc = AverageMeter()\n",
    "    curr_iter = (epoch - 1) * len(train_loader)\n",
    "    for i, data in enumerate(train_loader):\n",
    "        images, labels = data\n",
    "        N = images.size(0)\n",
    "        # print('image shape:',images.size(0), 'label shape',labels.size(0))\n",
    "        images = Variable(images).to(device)\n",
    "        labels = Variable(labels).to(device)\n",
    "\n",
    "        optimizer.zero_grad()\n",
    "        outputs = model(images)\n",
    "\n",
    "        loss = criterion(outputs, labels)\n",
    "        loss.backward()\n",
    "        optimizer.step()\n",
    "        prediction = outputs.max(1, keepdim=True)[1]\n",
    "        train_acc.update(prediction.eq(labels.view_as(prediction)).sum().item()/N)\n",
    "        train_loss.update(loss.item())\n",
    "        curr_iter += 1\n",
    "        if (i + 1) % 100 == 0:\n",
    "            print('[epoch %d], [iter %d / %d], [train loss %.5f], [train acc %.5f]' % (\n",
    "                epoch, i + 1, len(train_loader), train_loss.avg, train_acc.avg))\n",
    "            total_loss_train.append(train_loss.avg)\n",
    "            total_acc_train.append(train_acc.avg)\n",
    "    return train_loss.avg, train_acc.avg"
   ]
  },
  {
   "cell_type": "code",
   "execution_count": 32,
   "id": "5d36fe2d",
   "metadata": {
    "execution": {
     "iopub.execute_input": "2025-01-12T16:48:31.258772Z",
     "iopub.status.busy": "2025-01-12T16:48:31.258408Z",
     "iopub.status.idle": "2025-01-12T16:48:31.264877Z",
     "shell.execute_reply": "2025-01-12T16:48:31.263982Z"
    },
    "papermill": {
     "duration": 0.018144,
     "end_time": "2025-01-12T16:48:31.266284",
     "exception": false,
     "start_time": "2025-01-12T16:48:31.248140",
     "status": "completed"
    },
    "tags": []
   },
   "outputs": [],
   "source": [
    "def validate(val_loader, model, criterion, optimizer, epoch):\n",
    "    model.eval()\n",
    "    val_loss = AverageMeter()\n",
    "    val_acc = AverageMeter()\n",
    "    all_labels = []  # Liste pour stocker les étiquettes réelles\n",
    "    all_preds = []   # Liste pour stocker les scores des prédictions\n",
    "\n",
    "    with torch.no_grad():\n",
    "        for i, data in enumerate(val_loader):\n",
    "            images, labels = data\n",
    "            N = images.size(0)\n",
    "            images = Variable(images).to(device)\n",
    "            labels = Variable(labels).to(device)\n",
    "\n",
    "            outputs = model(images)\n",
    "            prediction = outputs.max(1, keepdim=True)[1]\n",
    "\n",
    "            val_acc.update(prediction.eq(labels.view_as(prediction)).sum().item() / N)\n",
    "            val_loss.update(criterion(outputs, labels).item())\n",
    "\n",
    "            # Stocker les étiquettes réelles et les scores des prédictions\n",
    "            all_labels.extend(labels.cpu().numpy())  # Ajouter les étiquettes\n",
    "            all_preds.extend(torch.softmax(outputs, dim=1).cpu().numpy())  # Ajouter les probabilités\n",
    "\n",
    "    print('------------------------------------------------------------')\n",
    "    print('[epoch %d], [val loss %.5f], [val acc %.5f]' % (epoch, val_loss.avg, val_acc.avg))\n",
    "    print('------------------------------------------------------------')\n",
    "    return val_loss.avg, val_acc.avg, np.array(all_labels), np.array(all_preds)\n"
   ]
  },
  {
   "cell_type": "code",
   "execution_count": 33,
   "id": "e28ce110",
   "metadata": {
    "execution": {
     "iopub.execute_input": "2025-01-12T16:48:31.286051Z",
     "iopub.status.busy": "2025-01-12T16:48:31.285731Z",
     "iopub.status.idle": "2025-01-12T18:15:50.181463Z",
     "shell.execute_reply": "2025-01-12T18:15:50.180254Z"
    },
    "papermill": {
     "duration": 5238.925601,
     "end_time": "2025-01-12T18:15:50.201390",
     "exception": false,
     "start_time": "2025-01-12T16:48:31.275789",
     "status": "completed"
    },
    "tags": []
   },
   "outputs": [
    {
     "name": "stdout",
     "output_type": "stream",
     "text": [
      "[epoch 1], [iter 100 / 1124], [train loss 0.90667], [train acc 0.47187]\n",
      "[epoch 1], [iter 200 / 1124], [train loss 0.69040], [train acc 0.57531]\n",
      "[epoch 1], [iter 300 / 1124], [train loss 0.59112], [train acc 0.62271]\n",
      "[epoch 1], [iter 400 / 1124], [train loss 0.52512], [train acc 0.65766]\n",
      "[epoch 1], [iter 500 / 1124], [train loss 0.48181], [train acc 0.68094]\n",
      "[epoch 1], [iter 600 / 1124], [train loss 0.44764], [train acc 0.69911]\n",
      "[epoch 1], [iter 700 / 1124], [train loss 0.42006], [train acc 0.71362]\n",
      "[epoch 1], [iter 800 / 1124], [train loss 0.39831], [train acc 0.72492]\n",
      "[epoch 1], [iter 900 / 1124], [train loss 0.37770], [train acc 0.73618]\n",
      "[epoch 1], [iter 1000 / 1124], [train loss 0.36127], [train acc 0.74494]\n",
      "[epoch 1], [iter 1100 / 1124], [train loss 0.34728], [train acc 0.75261]\n",
      "------------------------------------------------------------\n",
      "[epoch 1], [val loss 0.16540], [val acc 0.87667]\n",
      "------------------------------------------------------------\n",
      "*****************************************************\n",
      "best record: [epoch 1], [val loss 0.16540], [val acc 0.87667]\n",
      "*****************************************************\n",
      "[epoch 2], [iter 100 / 1124], [train loss 0.16076], [train acc 0.86656]\n",
      "[epoch 2], [iter 200 / 1124], [train loss 0.16278], [train acc 0.86375]\n",
      "[epoch 2], [iter 300 / 1124], [train loss 0.16519], [train acc 0.86073]\n",
      "[epoch 2], [iter 400 / 1124], [train loss 0.16253], [train acc 0.86492]\n",
      "[epoch 2], [iter 500 / 1124], [train loss 0.16004], [train acc 0.86738]\n",
      "[epoch 2], [iter 600 / 1124], [train loss 0.15833], [train acc 0.86620]\n",
      "[epoch 2], [iter 700 / 1124], [train loss 0.15497], [train acc 0.86786]\n",
      "[epoch 2], [iter 800 / 1124], [train loss 0.15387], [train acc 0.86840]\n",
      "[epoch 2], [iter 900 / 1124], [train loss 0.15173], [train acc 0.86938]\n",
      "[epoch 2], [iter 1000 / 1124], [train loss 0.14876], [train acc 0.87147]\n",
      "[epoch 2], [iter 1100 / 1124], [train loss 0.14757], [train acc 0.87193]\n",
      "------------------------------------------------------------\n",
      "[epoch 2], [val loss 0.15475], [val acc 0.88012]\n",
      "------------------------------------------------------------\n",
      "*****************************************************\n",
      "best record: [epoch 2], [val loss 0.15475], [val acc 0.88012]\n",
      "*****************************************************\n",
      "[epoch 3], [iter 100 / 1124], [train loss 0.10695], [train acc 0.89469]\n",
      "[epoch 3], [iter 200 / 1124], [train loss 0.10601], [train acc 0.90141]\n",
      "[epoch 3], [iter 300 / 1124], [train loss 0.10830], [train acc 0.89990]\n",
      "[epoch 3], [iter 400 / 1124], [train loss 0.10985], [train acc 0.90031]\n",
      "[epoch 3], [iter 500 / 1124], [train loss 0.10896], [train acc 0.90038]\n",
      "[epoch 3], [iter 600 / 1124], [train loss 0.10760], [train acc 0.90073]\n",
      "[epoch 3], [iter 700 / 1124], [train loss 0.10460], [train acc 0.90286]\n",
      "[epoch 3], [iter 800 / 1124], [train loss 0.10168], [train acc 0.90516]\n",
      "[epoch 3], [iter 900 / 1124], [train loss 0.10016], [train acc 0.90615]\n",
      "[epoch 3], [iter 1000 / 1124], [train loss 0.09870], [train acc 0.90778]\n",
      "[epoch 3], [iter 1100 / 1124], [train loss 0.09700], [train acc 0.90957]\n",
      "------------------------------------------------------------\n",
      "[epoch 3], [val loss 0.14471], [val acc 0.89720]\n",
      "------------------------------------------------------------\n",
      "*****************************************************\n",
      "best record: [epoch 3], [val loss 0.14471], [val acc 0.89720]\n",
      "*****************************************************\n",
      "[epoch 4], [iter 100 / 1124], [train loss 0.06916], [train acc 0.93563]\n",
      "[epoch 4], [iter 200 / 1124], [train loss 0.06993], [train acc 0.93016]\n",
      "[epoch 4], [iter 300 / 1124], [train loss 0.07400], [train acc 0.92802]\n",
      "[epoch 4], [iter 400 / 1124], [train loss 0.07425], [train acc 0.92805]\n",
      "[epoch 4], [iter 500 / 1124], [train loss 0.07210], [train acc 0.92912]\n",
      "[epoch 4], [iter 600 / 1124], [train loss 0.07289], [train acc 0.92797]\n",
      "[epoch 4], [iter 700 / 1124], [train loss 0.07272], [train acc 0.92906]\n",
      "[epoch 4], [iter 800 / 1124], [train loss 0.07203], [train acc 0.92918]\n",
      "[epoch 4], [iter 900 / 1124], [train loss 0.07200], [train acc 0.92899]\n",
      "[epoch 4], [iter 1000 / 1124], [train loss 0.07056], [train acc 0.92994]\n",
      "[epoch 4], [iter 1100 / 1124], [train loss 0.07045], [train acc 0.93054]\n",
      "------------------------------------------------------------\n",
      "[epoch 4], [val loss 0.15464], [val acc 0.90792]\n",
      "------------------------------------------------------------\n",
      "*****************************************************\n",
      "best record: [epoch 4], [val loss 0.15464], [val acc 0.90792]\n",
      "*****************************************************\n",
      "[epoch 5], [iter 100 / 1124], [train loss 0.05822], [train acc 0.93719]\n",
      "[epoch 5], [iter 200 / 1124], [train loss 0.05875], [train acc 0.93922]\n",
      "[epoch 5], [iter 300 / 1124], [train loss 0.05606], [train acc 0.94188]\n",
      "[epoch 5], [iter 400 / 1124], [train loss 0.05635], [train acc 0.94320]\n",
      "[epoch 5], [iter 500 / 1124], [train loss 0.05529], [train acc 0.94369]\n",
      "[epoch 5], [iter 600 / 1124], [train loss 0.05565], [train acc 0.94307]\n",
      "[epoch 5], [iter 700 / 1124], [train loss 0.05522], [train acc 0.94304]\n",
      "[epoch 5], [iter 800 / 1124], [train loss 0.05554], [train acc 0.94242]\n",
      "[epoch 5], [iter 900 / 1124], [train loss 0.05439], [train acc 0.94361]\n",
      "[epoch 5], [iter 1000 / 1124], [train loss 0.05391], [train acc 0.94394]\n",
      "[epoch 5], [iter 1100 / 1124], [train loss 0.05386], [train acc 0.94409]\n",
      "------------------------------------------------------------\n",
      "[epoch 5], [val loss 0.14873], [val acc 0.89530]\n",
      "------------------------------------------------------------\n",
      "[epoch 6], [iter 100 / 1124], [train loss 0.04434], [train acc 0.95281]\n",
      "[epoch 6], [iter 200 / 1124], [train loss 0.04269], [train acc 0.95594]\n",
      "[epoch 6], [iter 300 / 1124], [train loss 0.04390], [train acc 0.95427]\n",
      "[epoch 6], [iter 400 / 1124], [train loss 0.04516], [train acc 0.95336]\n",
      "[epoch 6], [iter 500 / 1124], [train loss 0.04512], [train acc 0.95325]\n",
      "[epoch 6], [iter 600 / 1124], [train loss 0.04486], [train acc 0.95339]\n",
      "[epoch 6], [iter 700 / 1124], [train loss 0.04404], [train acc 0.95437]\n",
      "[epoch 6], [iter 800 / 1124], [train loss 0.04375], [train acc 0.95504]\n",
      "[epoch 6], [iter 900 / 1124], [train loss 0.04312], [train acc 0.95542]\n",
      "[epoch 6], [iter 1000 / 1124], [train loss 0.04306], [train acc 0.95531]\n",
      "[epoch 6], [iter 1100 / 1124], [train loss 0.04238], [train acc 0.95557]\n",
      "------------------------------------------------------------\n",
      "[epoch 6], [val loss 0.15646], [val acc 0.90881]\n",
      "------------------------------------------------------------\n",
      "*****************************************************\n",
      "best record: [epoch 6], [val loss 0.15646], [val acc 0.90881]\n",
      "*****************************************************\n",
      "[epoch 7], [iter 100 / 1124], [train loss 0.03401], [train acc 0.96313]\n",
      "[epoch 7], [iter 200 / 1124], [train loss 0.03512], [train acc 0.96344]\n",
      "[epoch 7], [iter 300 / 1124], [train loss 0.03618], [train acc 0.96354]\n",
      "[epoch 7], [iter 400 / 1124], [train loss 0.03729], [train acc 0.96258]\n",
      "[epoch 7], [iter 500 / 1124], [train loss 0.03762], [train acc 0.96237]\n",
      "[epoch 7], [iter 600 / 1124], [train loss 0.03831], [train acc 0.96151]\n",
      "[epoch 7], [iter 700 / 1124], [train loss 0.03760], [train acc 0.96138]\n",
      "[epoch 7], [iter 800 / 1124], [train loss 0.03720], [train acc 0.96172]\n",
      "[epoch 7], [iter 900 / 1124], [train loss 0.03675], [train acc 0.96188]\n",
      "[epoch 7], [iter 1000 / 1124], [train loss 0.03627], [train acc 0.96247]\n",
      "[epoch 7], [iter 1100 / 1124], [train loss 0.03620], [train acc 0.96259]\n",
      "------------------------------------------------------------\n",
      "[epoch 7], [val loss 0.16414], [val acc 0.90423]\n",
      "------------------------------------------------------------\n",
      "[epoch 8], [iter 100 / 1124], [train loss 0.03044], [train acc 0.96875]\n",
      "[epoch 8], [iter 200 / 1124], [train loss 0.03164], [train acc 0.96547]\n",
      "[epoch 8], [iter 300 / 1124], [train loss 0.03085], [train acc 0.96646]\n",
      "[epoch 8], [iter 400 / 1124], [train loss 0.03193], [train acc 0.96617]\n",
      "[epoch 8], [iter 500 / 1124], [train loss 0.03209], [train acc 0.96613]\n",
      "[epoch 8], [iter 600 / 1124], [train loss 0.03169], [train acc 0.96641]\n",
      "[epoch 8], [iter 700 / 1124], [train loss 0.03116], [train acc 0.96719]\n",
      "[epoch 8], [iter 800 / 1124], [train loss 0.03031], [train acc 0.96773]\n",
      "[epoch 8], [iter 900 / 1124], [train loss 0.02967], [train acc 0.96813]\n",
      "[epoch 8], [iter 1000 / 1124], [train loss 0.02959], [train acc 0.96869]\n",
      "[epoch 8], [iter 1100 / 1124], [train loss 0.02978], [train acc 0.96841]\n",
      "------------------------------------------------------------\n",
      "[epoch 8], [val loss 0.15235], [val acc 0.92399]\n",
      "------------------------------------------------------------\n",
      "*****************************************************\n",
      "best record: [epoch 8], [val loss 0.15235], [val acc 0.92399]\n",
      "*****************************************************\n",
      "[epoch 9], [iter 100 / 1124], [train loss 0.02395], [train acc 0.97625]\n",
      "[epoch 9], [iter 200 / 1124], [train loss 0.02247], [train acc 0.97750]\n",
      "[epoch 9], [iter 300 / 1124], [train loss 0.02172], [train acc 0.97698]\n",
      "[epoch 9], [iter 400 / 1124], [train loss 0.02223], [train acc 0.97570]\n",
      "[epoch 9], [iter 500 / 1124], [train loss 0.02208], [train acc 0.97556]\n",
      "[epoch 9], [iter 600 / 1124], [train loss 0.02221], [train acc 0.97557]\n",
      "[epoch 9], [iter 700 / 1124], [train loss 0.02235], [train acc 0.97536]\n",
      "[epoch 9], [iter 800 / 1124], [train loss 0.02274], [train acc 0.97500]\n",
      "[epoch 9], [iter 900 / 1124], [train loss 0.02293], [train acc 0.97486]\n",
      "[epoch 9], [iter 1000 / 1124], [train loss 0.02333], [train acc 0.97437]\n",
      "[epoch 9], [iter 1100 / 1124], [train loss 0.02373], [train acc 0.97395]\n",
      "------------------------------------------------------------\n",
      "[epoch 9], [val loss 0.17118], [val acc 0.90524]\n",
      "------------------------------------------------------------\n",
      "[epoch 10], [iter 100 / 1124], [train loss 0.02478], [train acc 0.97375]\n",
      "[epoch 10], [iter 200 / 1124], [train loss 0.02269], [train acc 0.97516]\n",
      "[epoch 10], [iter 300 / 1124], [train loss 0.02122], [train acc 0.97760]\n",
      "[epoch 10], [iter 400 / 1124], [train loss 0.02151], [train acc 0.97680]\n",
      "[epoch 10], [iter 500 / 1124], [train loss 0.02172], [train acc 0.97731]\n",
      "[epoch 10], [iter 600 / 1124], [train loss 0.02160], [train acc 0.97724]\n",
      "[epoch 10], [iter 700 / 1124], [train loss 0.02186], [train acc 0.97696]\n",
      "[epoch 10], [iter 800 / 1124], [train loss 0.02154], [train acc 0.97707]\n",
      "[epoch 10], [iter 900 / 1124], [train loss 0.02120], [train acc 0.97705]\n",
      "[epoch 10], [iter 1000 / 1124], [train loss 0.02100], [train acc 0.97725]\n",
      "[epoch 10], [iter 1100 / 1124], [train loss 0.02068], [train acc 0.97727]\n",
      "------------------------------------------------------------\n",
      "[epoch 10], [val loss 0.15972], [val acc 0.90780]\n",
      "------------------------------------------------------------\n",
      "[epoch 11], [iter 100 / 1124], [train loss 0.01754], [train acc 0.98344]\n",
      "[epoch 11], [iter 200 / 1124], [train loss 0.01860], [train acc 0.98219]\n",
      "[epoch 11], [iter 300 / 1124], [train loss 0.01811], [train acc 0.98198]\n",
      "[epoch 11], [iter 400 / 1124], [train loss 0.01754], [train acc 0.98250]\n",
      "[epoch 11], [iter 500 / 1124], [train loss 0.01714], [train acc 0.98250]\n",
      "[epoch 11], [iter 600 / 1124], [train loss 0.01727], [train acc 0.98224]\n",
      "[epoch 11], [iter 700 / 1124], [train loss 0.01766], [train acc 0.98201]\n",
      "[epoch 11], [iter 800 / 1124], [train loss 0.01775], [train acc 0.98156]\n",
      "[epoch 11], [iter 900 / 1124], [train loss 0.01782], [train acc 0.98125]\n",
      "[epoch 11], [iter 1000 / 1124], [train loss 0.01796], [train acc 0.98097]\n",
      "[epoch 11], [iter 1100 / 1124], [train loss 0.01789], [train acc 0.98122]\n",
      "------------------------------------------------------------\n",
      "[epoch 11], [val loss 0.18396], [val acc 0.91595]\n",
      "------------------------------------------------------------\n",
      "[epoch 12], [iter 100 / 1124], [train loss 0.02044], [train acc 0.98000]\n",
      "[epoch 12], [iter 200 / 1124], [train loss 0.02030], [train acc 0.97828]\n",
      "[epoch 12], [iter 300 / 1124], [train loss 0.02057], [train acc 0.97729]\n",
      "[epoch 12], [iter 400 / 1124], [train loss 0.02000], [train acc 0.97781]\n",
      "[epoch 12], [iter 500 / 1124], [train loss 0.01872], [train acc 0.97862]\n",
      "[epoch 12], [iter 600 / 1124], [train loss 0.01936], [train acc 0.97885]\n",
      "[epoch 12], [iter 700 / 1124], [train loss 0.01975], [train acc 0.97871]\n",
      "[epoch 12], [iter 800 / 1124], [train loss 0.01944], [train acc 0.97855]\n",
      "[epoch 12], [iter 900 / 1124], [train loss 0.01899], [train acc 0.97906]\n",
      "[epoch 12], [iter 1000 / 1124], [train loss 0.01847], [train acc 0.97966]\n",
      "[epoch 12], [iter 1100 / 1124], [train loss 0.01807], [train acc 0.98017]\n",
      "------------------------------------------------------------\n",
      "[epoch 12], [val loss 0.18928], [val acc 0.92131]\n",
      "------------------------------------------------------------\n",
      "[epoch 13], [iter 100 / 1124], [train loss 0.01546], [train acc 0.98531]\n",
      "[epoch 13], [iter 200 / 1124], [train loss 0.01740], [train acc 0.98141]\n",
      "[epoch 13], [iter 300 / 1124], [train loss 0.01663], [train acc 0.98125]\n",
      "[epoch 13], [iter 400 / 1124], [train loss 0.01645], [train acc 0.98117]\n",
      "[epoch 13], [iter 500 / 1124], [train loss 0.01672], [train acc 0.98088]\n",
      "[epoch 13], [iter 600 / 1124], [train loss 0.01582], [train acc 0.98177]\n",
      "[epoch 13], [iter 700 / 1124], [train loss 0.01528], [train acc 0.98196]\n",
      "[epoch 13], [iter 800 / 1124], [train loss 0.01488], [train acc 0.98254]\n",
      "[epoch 13], [iter 900 / 1124], [train loss 0.01461], [train acc 0.98288]\n",
      "[epoch 13], [iter 1000 / 1124], [train loss 0.01429], [train acc 0.98309]\n",
      "[epoch 13], [iter 1100 / 1124], [train loss 0.01395], [train acc 0.98366]\n",
      "------------------------------------------------------------\n",
      "[epoch 13], [val loss 0.18673], [val acc 0.90869]\n",
      "------------------------------------------------------------\n",
      "[epoch 14], [iter 100 / 1124], [train loss 0.01605], [train acc 0.98250]\n",
      "[epoch 14], [iter 200 / 1124], [train loss 0.01393], [train acc 0.98516]\n",
      "[epoch 14], [iter 300 / 1124], [train loss 0.01531], [train acc 0.98240]\n",
      "[epoch 14], [iter 400 / 1124], [train loss 0.01504], [train acc 0.98320]\n",
      "[epoch 14], [iter 500 / 1124], [train loss 0.01462], [train acc 0.98356]\n",
      "[epoch 14], [iter 600 / 1124], [train loss 0.01399], [train acc 0.98401]\n",
      "[epoch 14], [iter 700 / 1124], [train loss 0.01355], [train acc 0.98433]\n",
      "[epoch 14], [iter 800 / 1124], [train loss 0.01389], [train acc 0.98367]\n",
      "[epoch 14], [iter 900 / 1124], [train loss 0.01413], [train acc 0.98365]\n",
      "[epoch 14], [iter 1000 / 1124], [train loss 0.01426], [train acc 0.98325]\n",
      "[epoch 14], [iter 1100 / 1124], [train loss 0.01406], [train acc 0.98378]\n",
      "------------------------------------------------------------\n",
      "[epoch 14], [val loss 0.20746], [val acc 0.91405]\n",
      "------------------------------------------------------------\n",
      "[epoch 15], [iter 100 / 1124], [train loss 0.01305], [train acc 0.98719]\n",
      "[epoch 15], [iter 200 / 1124], [train loss 0.01367], [train acc 0.98609]\n",
      "[epoch 15], [iter 300 / 1124], [train loss 0.01407], [train acc 0.98604]\n",
      "[epoch 15], [iter 400 / 1124], [train loss 0.01426], [train acc 0.98516]\n",
      "[epoch 15], [iter 500 / 1124], [train loss 0.01390], [train acc 0.98600]\n",
      "[epoch 15], [iter 600 / 1124], [train loss 0.01375], [train acc 0.98562]\n",
      "[epoch 15], [iter 700 / 1124], [train loss 0.01325], [train acc 0.98594]\n",
      "[epoch 15], [iter 800 / 1124], [train loss 0.01277], [train acc 0.98645]\n",
      "[epoch 15], [iter 900 / 1124], [train loss 0.01304], [train acc 0.98628]\n",
      "[epoch 15], [iter 1000 / 1124], [train loss 0.01311], [train acc 0.98631]\n",
      "[epoch 15], [iter 1100 / 1124], [train loss 0.01288], [train acc 0.98634]\n",
      "------------------------------------------------------------\n",
      "[epoch 15], [val loss 0.19958], [val acc 0.90881]\n",
      "------------------------------------------------------------\n",
      "[epoch 16], [iter 100 / 1124], [train loss 0.01023], [train acc 0.98781]\n",
      "[epoch 16], [iter 200 / 1124], [train loss 0.01119], [train acc 0.98750]\n",
      "[epoch 16], [iter 300 / 1124], [train loss 0.01140], [train acc 0.98792]\n",
      "[epoch 16], [iter 400 / 1124], [train loss 0.01120], [train acc 0.98805]\n",
      "[epoch 16], [iter 500 / 1124], [train loss 0.01157], [train acc 0.98744]\n",
      "[epoch 16], [iter 600 / 1124], [train loss 0.01170], [train acc 0.98740]\n",
      "[epoch 16], [iter 700 / 1124], [train loss 0.01170], [train acc 0.98759]\n",
      "[epoch 16], [iter 800 / 1124], [train loss 0.01206], [train acc 0.98687]\n",
      "[epoch 16], [iter 900 / 1124], [train loss 0.01211], [train acc 0.98642]\n",
      "[epoch 16], [iter 1000 / 1124], [train loss 0.01203], [train acc 0.98650]\n",
      "[epoch 16], [iter 1100 / 1124], [train loss 0.01184], [train acc 0.98679]\n",
      "------------------------------------------------------------\n",
      "[epoch 16], [val loss 0.18336], [val acc 0.91417]\n",
      "------------------------------------------------------------\n",
      "[epoch 17], [iter 100 / 1124], [train loss 0.01174], [train acc 0.98750]\n",
      "[epoch 17], [iter 200 / 1124], [train loss 0.01210], [train acc 0.98750]\n",
      "[epoch 17], [iter 300 / 1124], [train loss 0.01092], [train acc 0.98823]\n",
      "[epoch 17], [iter 400 / 1124], [train loss 0.01085], [train acc 0.98852]\n",
      "[epoch 17], [iter 500 / 1124], [train loss 0.01096], [train acc 0.98794]\n",
      "[epoch 17], [iter 600 / 1124], [train loss 0.01040], [train acc 0.98854]\n",
      "[epoch 17], [iter 700 / 1124], [train loss 0.01072], [train acc 0.98786]\n",
      "[epoch 17], [iter 800 / 1124], [train loss 0.01056], [train acc 0.98797]\n",
      "[epoch 17], [iter 900 / 1124], [train loss 0.01061], [train acc 0.98806]\n",
      "[epoch 17], [iter 1000 / 1124], [train loss 0.01078], [train acc 0.98809]\n",
      "[epoch 17], [iter 1100 / 1124], [train loss 0.01060], [train acc 0.98838]\n",
      "------------------------------------------------------------\n",
      "[epoch 17], [val loss 0.21010], [val acc 0.91149]\n",
      "------------------------------------------------------------\n",
      "[epoch 18], [iter 100 / 1124], [train loss 0.00984], [train acc 0.98969]\n",
      "[epoch 18], [iter 200 / 1124], [train loss 0.00845], [train acc 0.99062]\n",
      "[epoch 18], [iter 300 / 1124], [train loss 0.00900], [train acc 0.99042]\n",
      "[epoch 18], [iter 400 / 1124], [train loss 0.00886], [train acc 0.99016]\n",
      "[epoch 18], [iter 500 / 1124], [train loss 0.00921], [train acc 0.98962]\n",
      "[epoch 18], [iter 600 / 1124], [train loss 0.00881], [train acc 0.99010]\n",
      "[epoch 18], [iter 700 / 1124], [train loss 0.00859], [train acc 0.99062]\n",
      "[epoch 18], [iter 800 / 1124], [train loss 0.00843], [train acc 0.99098]\n",
      "[epoch 18], [iter 900 / 1124], [train loss 0.00838], [train acc 0.99101]\n",
      "[epoch 18], [iter 1000 / 1124], [train loss 0.00842], [train acc 0.99066]\n",
      "[epoch 18], [iter 1100 / 1124], [train loss 0.00823], [train acc 0.99085]\n",
      "------------------------------------------------------------\n",
      "[epoch 18], [val loss 0.20702], [val acc 0.91417]\n",
      "------------------------------------------------------------\n",
      "[epoch 19], [iter 100 / 1124], [train loss 0.00683], [train acc 0.99125]\n",
      "[epoch 19], [iter 200 / 1124], [train loss 0.00714], [train acc 0.99297]\n",
      "[epoch 19], [iter 300 / 1124], [train loss 0.00648], [train acc 0.99417]\n",
      "[epoch 19], [iter 400 / 1124], [train loss 0.00699], [train acc 0.99297]\n",
      "[epoch 19], [iter 500 / 1124], [train loss 0.00734], [train acc 0.99219]\n",
      "[epoch 19], [iter 600 / 1124], [train loss 0.00736], [train acc 0.99219]\n",
      "[epoch 19], [iter 700 / 1124], [train loss 0.00724], [train acc 0.99232]\n",
      "[epoch 19], [iter 800 / 1124], [train loss 0.00724], [train acc 0.99258]\n",
      "[epoch 19], [iter 900 / 1124], [train loss 0.00754], [train acc 0.99222]\n",
      "[epoch 19], [iter 1000 / 1124], [train loss 0.00757], [train acc 0.99213]\n",
      "[epoch 19], [iter 1100 / 1124], [train loss 0.00763], [train acc 0.99213]\n",
      "------------------------------------------------------------\n",
      "[epoch 19], [val loss 0.19437], [val acc 0.90435]\n",
      "------------------------------------------------------------\n",
      "[epoch 20], [iter 100 / 1124], [train loss 0.00552], [train acc 0.99375]\n",
      "[epoch 20], [iter 200 / 1124], [train loss 0.00711], [train acc 0.99156]\n",
      "[epoch 20], [iter 300 / 1124], [train loss 0.00764], [train acc 0.99146]\n",
      "[epoch 20], [iter 400 / 1124], [train loss 0.00808], [train acc 0.99062]\n",
      "[epoch 20], [iter 500 / 1124], [train loss 0.00782], [train acc 0.99113]\n",
      "[epoch 20], [iter 600 / 1124], [train loss 0.00764], [train acc 0.99141]\n",
      "[epoch 20], [iter 700 / 1124], [train loss 0.00784], [train acc 0.99129]\n",
      "[epoch 20], [iter 800 / 1124], [train loss 0.00764], [train acc 0.99160]\n",
      "[epoch 20], [iter 900 / 1124], [train loss 0.00775], [train acc 0.99153]\n",
      "[epoch 20], [iter 1000 / 1124], [train loss 0.00792], [train acc 0.99141]\n",
      "[epoch 20], [iter 1100 / 1124], [train loss 0.00796], [train acc 0.99145]\n",
      "------------------------------------------------------------\n",
      "[epoch 20], [val loss 0.21317], [val acc 0.91226]\n",
      "------------------------------------------------------------\n"
     ]
    }
   ],
   "source": [
    "# Initialiser les listes pour stocker les métriques\n",
    "total_loss_train = []  # Pertes d'entraînement\n",
    "total_acc_train = []   # Précisions d'entraînement\n",
    "total_loss_val = []    # Pertes de validation\n",
    "total_acc_val = []     # Précisions de validation\n",
    "best_val_acc = 0  # Meilleure précision de validation\n",
    "epoch_num = 20  # Nombre d'époques\n",
    "\n",
    "# Initialiser des listes pour stocker toutes les étiquettes et probabilités de validation\n",
    "all_labels_total = []\n",
    "all_preds_total = []\n",
    "\n",
    "for epoch in range(1, epoch_num + 1):\n",
    "    # Entraînement\n",
    "    loss_train, acc_train = train(train_loader, model, criterion, optimizer, epoch)\n",
    "    \n",
    "    # Validation\n",
    "    loss_val, acc_val, all_labels, all_preds = validate(val_loader, model, criterion, optimizer, epoch)\n",
    "    \n",
    "    # Stocker les métriques\n",
    "    total_loss_train.append(loss_train)\n",
    "    total_acc_train.append(acc_train)\n",
    "    total_loss_val.append(loss_val)\n",
    "    total_acc_val.append(acc_val)\n",
    "    \n",
    "    # Stocker les étiquettes et probabilités de validation pour toutes les époques\n",
    "    all_labels_total.extend(all_labels)\n",
    "    all_preds_total.extend(all_preds)\n",
    "    \n",
    "    # Vérifier si c'est la meilleure précision de validation\n",
    "    if acc_val > best_val_acc:\n",
    "        best_val_acc = acc_val\n",
    "        print('*****************************************************')\n",
    "        print('best record: [epoch %d], [val loss %.5f], [val acc %.5f]' % (epoch, loss_val, acc_val))\n",
    "        print('*****************************************************')\n",
    "\n"
   ]
  },
  {
   "cell_type": "code",
   "execution_count": 34,
   "id": "1dd1b54f",
   "metadata": {
    "execution": {
     "iopub.execute_input": "2025-01-12T18:15:50.242121Z",
     "iopub.status.busy": "2025-01-12T18:15:50.241808Z",
     "iopub.status.idle": "2025-01-12T18:15:50.248963Z",
     "shell.execute_reply": "2025-01-12T18:15:50.247945Z"
    },
    "papermill": {
     "duration": 0.028845,
     "end_time": "2025-01-12T18:15:50.250285",
     "exception": false,
     "start_time": "2025-01-12T18:15:50.221440",
     "status": "completed"
    },
    "tags": []
   },
   "outputs": [],
   "source": [
    "from sklearn.metrics import roc_curve, auc\n",
    "import matplotlib.pyplot as plt\n",
    "from itertools import cycle\n",
    "\n",
    "def plot_roc_multiclass(y_true, y_scores, num_classes):\n",
    "\n",
    "    plt.figure(figsize=(10, 8))\n",
    "    colors = cycle(['aqua', 'darkorange', 'cornflowerblue', 'green', 'red', 'purple', 'pink', 'yellow'])\n",
    "    \n",
    "    for i, color in zip(range(num_classes), colors):\n",
    "        # Calculer les courbes ROC\n",
    "        fpr, tpr, _ = roc_curve(y_true == i, y_scores[:, i])\n",
    "        roc_auc = auc(fpr, tpr)\n",
    "        # Tracer la courbe ROC pour la classe i\n",
    "        plt.plot(fpr, tpr, color=color, lw=2, label=f'Classe {i} (AUC = {roc_auc:.2f})')\n",
    "    \n",
    "    plt.plot([0, 1], [0, 1], 'k--', lw=2)  # Diagonale\n",
    "    plt.xlim([0.0, 1.0])\n",
    "    plt.ylim([0.0, 1.05])\n",
    "    plt.xlabel('Taux de Faux Positifs (FPR)', fontsize=14)\n",
    "    plt.ylabel('Taux de Vrais Positifs (TPR)', fontsize=14)\n",
    "    plt.title('Courbes ROC Multiclasse', fontsize=16)\n",
    "    plt.legend(loc=\"lower right\", fontsize=12)\n",
    "    plt.grid(alpha=0.3)\n",
    "    plt.show()\n"
   ]
  },
  {
   "cell_type": "code",
   "execution_count": 35,
   "id": "68d5f4c8",
   "metadata": {
    "execution": {
     "iopub.execute_input": "2025-01-12T18:15:50.290307Z",
     "iopub.status.busy": "2025-01-12T18:15:50.290018Z",
     "iopub.status.idle": "2025-01-12T18:15:50.718486Z",
     "shell.execute_reply": "2025-01-12T18:15:50.717658Z"
    },
    "papermill": {
     "duration": 0.450792,
     "end_time": "2025-01-12T18:15:50.720545",
     "exception": false,
     "start_time": "2025-01-12T18:15:50.269753",
     "status": "completed"
    },
    "tags": []
   },
   "outputs": [
    {
     "name": "stdout",
     "output_type": "stream",
     "text": [
      "\n",
      "=== Courbes ROC après toutes les époques ===\n"
     ]
    },
    {
     "data": {
      "image/png": "[encoded data removed]",
      "text/plain": [
       "<Figure size 1000x800 with 1 Axes>"
      ]
     },
     "metadata": {},
     "output_type": "display_data"
    }
   ],
   "source": [
    "# Tracer la courbe ROC après toutes les époques\n",
    "print(\"\\n=== Courbes ROC après toutes les époques ===\")\n",
    "all_labels_total = np.array(all_labels_total)\n",
    "all_preds_total = np.array(all_preds_total)\n",
    "plot_roc_multiclass(all_labels_total, all_preds_total, 7)\n"
   ]
  },
  {
   "cell_type": "code",
   "execution_count": 36,
   "id": "df320dd6",
   "metadata": {
    "execution": {
     "iopub.execute_input": "2025-01-12T18:15:50.765548Z",
     "iopub.status.busy": "2025-01-12T18:15:50.765240Z",
     "iopub.status.idle": "2025-01-12T18:15:50.778522Z",
     "shell.execute_reply": "2025-01-12T18:15:50.777815Z"
    },
    "papermill": {
     "duration": 0.036686,
     "end_time": "2025-01-12T18:15:50.779764",
     "exception": false,
     "start_time": "2025-01-12T18:15:50.743078",
     "status": "completed"
    },
    "tags": []
   },
   "outputs": [
    {
     "name": "stdout",
     "output_type": "stream",
     "text": [
      "Training results saved successfully!\n"
     ]
    }
   ],
   "source": [
    "# Average training metrics per epoch\n",
    "epoch_train_loss = []\n",
    "epoch_train_acc = []\n",
    "\n",
    "num_iters_per_epoch = len(total_loss_train) // len(total_loss_val)\n",
    "for i in range(len(total_loss_val)):\n",
    "    start = i * num_iters_per_epoch\n",
    "    end = (i + 1) * num_iters_per_epoch\n",
    "    epoch_train_loss.append(sum(total_loss_train[start:end]) / num_iters_per_epoch)\n",
    "    epoch_train_acc.append(sum(total_acc_train[start:end]) / num_iters_per_epoch)\n",
    "\n",
    "# Now all lists have the same length\n",
    "results = pd.DataFrame({\n",
    "    'epoch': list(range(1, len(total_loss_val) + 1)),\n",
    "    'train_loss': epoch_train_loss,\n",
    "    'train_acc': epoch_train_acc,\n",
    "    'val_loss': total_loss_val,\n",
    "    'val_acc': total_acc_val\n",
    "})\n",
    "\n",
    "# Save to CSV\n",
    "results.to_csv('training_resultsex2.csv', index=False)\n",
    "print(\"Training results saved successfully!\")\n"
   ]
  },
  {
   "cell_type": "code",
   "execution_count": 37,
   "id": "9ada2a03",
   "metadata": {
    "execution": {
     "iopub.execute_input": "2025-01-12T18:15:50.824296Z",
     "iopub.status.busy": "2025-01-12T18:15:50.823988Z",
     "iopub.status.idle": "2025-01-12T18:15:50.835231Z",
     "shell.execute_reply": "2025-01-12T18:15:50.834456Z"
    },
    "papermill": {
     "duration": 0.034784,
     "end_time": "2025-01-12T18:15:50.836534",
     "exception": false,
     "start_time": "2025-01-12T18:15:50.801750",
     "status": "completed"
    },
    "tags": []
   },
   "outputs": [
    {
     "data": {
      "text/html": [
       "<div>\n",
       "<style scoped>\n",
       "    .dataframe tbody tr th:only-of-type {\n",
       "        vertical-align: middle;\n",
       "    }\n",
       "\n",
       "    .dataframe tbody tr th {\n",
       "        vertical-align: top;\n",
       "    }\n",
       "\n",
       "    .dataframe thead th {\n",
       "        text-align: right;\n",
       "    }\n",
       "</style>\n",
       "<table border=\"1\" class=\"dataframe\">\n",
       "  <thead>\n",
       "    <tr style=\"text-align: right;\">\n",
       "      <th></th>\n",
       "      <th>epoch</th>\n",
       "      <th>train_loss</th>\n",
       "      <th>train_acc</th>\n",
       "      <th>val_loss</th>\n",
       "      <th>val_acc</th>\n",
       "    </tr>\n",
       "  </thead>\n",
       "  <tbody>\n",
       "    <tr>\n",
       "      <th>0</th>\n",
       "      <td>1</td>\n",
       "      <td>0.490889</td>\n",
       "      <td>0.677897</td>\n",
       "      <td>0.165401</td>\n",
       "      <td>0.876667</td>\n",
       "    </tr>\n",
       "    <tr>\n",
       "      <th>1</th>\n",
       "      <td>2</td>\n",
       "      <td>0.156119</td>\n",
       "      <td>0.867565</td>\n",
       "      <td>0.154748</td>\n",
       "      <td>0.880119</td>\n",
       "    </tr>\n",
       "    <tr>\n",
       "      <th>2</th>\n",
       "      <td>3</td>\n",
       "      <td>0.103893</td>\n",
       "      <td>0.903223</td>\n",
       "      <td>0.144708</td>\n",
       "      <td>0.897202</td>\n",
       "    </tr>\n",
       "    <tr>\n",
       "      <th>3</th>\n",
       "      <td>4</td>\n",
       "      <td>0.071714</td>\n",
       "      <td>0.929762</td>\n",
       "      <td>0.154641</td>\n",
       "      <td>0.907917</td>\n",
       "    </tr>\n",
       "    <tr>\n",
       "      <th>4</th>\n",
       "      <td>5</td>\n",
       "      <td>0.055577</td>\n",
       "      <td>0.942462</td>\n",
       "      <td>0.148730</td>\n",
       "      <td>0.895298</td>\n",
       "    </tr>\n",
       "    <tr>\n",
       "      <th>5</th>\n",
       "      <td>6</td>\n",
       "      <td>0.043720</td>\n",
       "      <td>0.954536</td>\n",
       "      <td>0.156455</td>\n",
       "      <td>0.908810</td>\n",
       "    </tr>\n",
       "    <tr>\n",
       "      <th>6</th>\n",
       "      <td>7</td>\n",
       "      <td>0.036560</td>\n",
       "      <td>0.962445</td>\n",
       "      <td>0.164143</td>\n",
       "      <td>0.904226</td>\n",
       "    </tr>\n",
       "    <tr>\n",
       "      <th>7</th>\n",
       "      <td>8</td>\n",
       "      <td>0.030741</td>\n",
       "      <td>0.967324</td>\n",
       "      <td>0.152351</td>\n",
       "      <td>0.923988</td>\n",
       "    </tr>\n",
       "    <tr>\n",
       "      <th>8</th>\n",
       "      <td>9</td>\n",
       "      <td>0.022794</td>\n",
       "      <td>0.975417</td>\n",
       "      <td>0.171176</td>\n",
       "      <td>0.905238</td>\n",
       "    </tr>\n",
       "    <tr>\n",
       "      <th>9</th>\n",
       "      <td>10</td>\n",
       "      <td>0.021697</td>\n",
       "      <td>0.976734</td>\n",
       "      <td>0.159717</td>\n",
       "      <td>0.907798</td>\n",
       "    </tr>\n",
       "    <tr>\n",
       "      <th>10</th>\n",
       "      <td>11</td>\n",
       "      <td>0.017768</td>\n",
       "      <td>0.981912</td>\n",
       "      <td>0.183959</td>\n",
       "      <td>0.915952</td>\n",
       "    </tr>\n",
       "    <tr>\n",
       "      <th>11</th>\n",
       "      <td>12</td>\n",
       "      <td>0.019351</td>\n",
       "      <td>0.978933</td>\n",
       "      <td>0.189277</td>\n",
       "      <td>0.921310</td>\n",
       "    </tr>\n",
       "    <tr>\n",
       "      <th>12</th>\n",
       "      <td>13</td>\n",
       "      <td>0.015451</td>\n",
       "      <td>0.982465</td>\n",
       "      <td>0.186731</td>\n",
       "      <td>0.908690</td>\n",
       "    </tr>\n",
       "    <tr>\n",
       "      <th>13</th>\n",
       "      <td>14</td>\n",
       "      <td>0.014414</td>\n",
       "      <td>0.983610</td>\n",
       "      <td>0.207463</td>\n",
       "      <td>0.914048</td>\n",
       "    </tr>\n",
       "    <tr>\n",
       "      <th>14</th>\n",
       "      <td>15</td>\n",
       "      <td>0.013375</td>\n",
       "      <td>0.986157</td>\n",
       "      <td>0.199583</td>\n",
       "      <td>0.908810</td>\n",
       "    </tr>\n",
       "    <tr>\n",
       "      <th>15</th>\n",
       "      <td>16</td>\n",
       "      <td>0.011570</td>\n",
       "      <td>0.987254</td>\n",
       "      <td>0.183362</td>\n",
       "      <td>0.914167</td>\n",
       "    </tr>\n",
       "    <tr>\n",
       "      <th>16</th>\n",
       "      <td>17</td>\n",
       "      <td>0.010908</td>\n",
       "      <td>0.988075</td>\n",
       "      <td>0.210097</td>\n",
       "      <td>0.911488</td>\n",
       "    </tr>\n",
       "    <tr>\n",
       "      <th>17</th>\n",
       "      <td>18</td>\n",
       "      <td>0.008707</td>\n",
       "      <td>0.990461</td>\n",
       "      <td>0.207023</td>\n",
       "      <td>0.914167</td>\n",
       "    </tr>\n",
       "    <tr>\n",
       "      <th>18</th>\n",
       "      <td>19</td>\n",
       "      <td>0.007240</td>\n",
       "      <td>0.992446</td>\n",
       "      <td>0.194374</td>\n",
       "      <td>0.904345</td>\n",
       "    </tr>\n",
       "    <tr>\n",
       "      <th>19</th>\n",
       "      <td>20</td>\n",
       "      <td>0.007577</td>\n",
       "      <td>0.991547</td>\n",
       "      <td>0.213167</td>\n",
       "      <td>0.912262</td>\n",
       "    </tr>\n",
       "  </tbody>\n",
       "</table>\n",
       "</div>"
      ],
      "text/plain": [
       "    epoch  train_loss  train_acc  val_loss   val_acc\n",
       "0       1    0.490889   0.677897  0.165401  0.876667\n",
       "1       2    0.156119   0.867565  0.154748  0.880119\n",
       "2       3    0.103893   0.903223  0.144708  0.897202\n",
       "3       4    0.071714   0.929762  0.154641  0.907917\n",
       "4       5    0.055577   0.942462  0.148730  0.895298\n",
       "5       6    0.043720   0.954536  0.156455  0.908810\n",
       "6       7    0.036560   0.962445  0.164143  0.904226\n",
       "7       8    0.030741   0.967324  0.152351  0.923988\n",
       "8       9    0.022794   0.975417  0.171176  0.905238\n",
       "9      10    0.021697   0.976734  0.159717  0.907798\n",
       "10     11    0.017768   0.981912  0.183959  0.915952\n",
       "11     12    0.019351   0.978933  0.189277  0.921310\n",
       "12     13    0.015451   0.982465  0.186731  0.908690\n",
       "13     14    0.014414   0.983610  0.207463  0.914048\n",
       "14     15    0.013375   0.986157  0.199583  0.908810\n",
       "15     16    0.011570   0.987254  0.183362  0.914167\n",
       "16     17    0.010908   0.988075  0.210097  0.911488\n",
       "17     18    0.008707   0.990461  0.207023  0.914167\n",
       "18     19    0.007240   0.992446  0.194374  0.904345\n",
       "19     20    0.007577   0.991547  0.213167  0.912262"
      ]
     },
     "execution_count": 37,
     "metadata": {},
     "output_type": "execute_result"
    }
   ],
   "source": [
    "results"
   ]
  },
  {
   "cell_type": "code",
   "execution_count": 38,
   "id": "60083f9e",
   "metadata": {
    "execution": {
     "iopub.execute_input": "2025-01-12T18:15:50.881418Z",
     "iopub.status.busy": "2025-01-12T18:15:50.881094Z",
     "iopub.status.idle": "2025-01-12T18:15:50.979594Z",
     "shell.execute_reply": "2025-01-12T18:15:50.978578Z"
    },
    "papermill": {
     "duration": 0.122704,
     "end_time": "2025-01-12T18:15:50.981093",
     "exception": false,
     "start_time": "2025-01-12T18:15:50.858389",
     "status": "completed"
    },
    "tags": []
   },
   "outputs": [
    {
     "name": "stdout",
     "output_type": "stream",
     "text": [
      "Meilleur modèle enregistré sous 'best_model.pth'\n"
     ]
    }
   ],
   "source": [
    "torch.save(model.state_dict(), 'best_model.pth')\n",
    "print(\"Meilleur modèle enregistré sous 'best_model.pth'\")"
   ]
  },
  {
   "cell_type": "markdown",
   "id": "a23380fb",
   "metadata": {
    "papermill": {
     "duration": 0.024165,
     "end_time": "2025-01-12T18:15:51.027502",
     "exception": false,
     "start_time": "2025-01-12T18:15:51.003337",
     "status": "completed"
    },
    "tags": []
   },
   "source": [
    "## Step 4. Model evaluation"
   ]
  },
  {
   "cell_type": "code",
   "execution_count": 39,
   "id": "bb60d1fb",
   "metadata": {
    "execution": {
     "iopub.execute_input": "2025-01-12T18:15:51.073270Z",
     "iopub.status.busy": "2025-01-12T18:15:51.072978Z",
     "iopub.status.idle": "2025-01-12T18:15:51.413344Z",
     "shell.execute_reply": "2025-01-12T18:15:51.412360Z"
    },
    "papermill": {
     "duration": 0.364883,
     "end_time": "2025-01-12T18:15:51.414851",
     "exception": false,
     "start_time": "2025-01-12T18:15:51.049968",
     "status": "completed"
    },
    "tags": []
   },
   "outputs": [
    {
     "data": {
      "image/png": "[encoded data removed]",
      "text/plain": [
       "<Figure size 640x480 with 2 Axes>"
      ]
     },
     "metadata": {},
     "output_type": "display_data"
    }
   ],
   "source": [
    "fig = plt.figure(num = 2)\n",
    "fig1 = fig.add_subplot(2,1,1)\n",
    "fig2 = fig.add_subplot(2,1,2)\n",
    "fig1.plot(total_loss_train, label = 'training loss')\n",
    "fig1.plot(total_acc_train, label = 'training accuracy')\n",
    "fig2.plot(total_loss_val, label = 'validation loss')\n",
    "fig2.plot(total_acc_val, label = 'validation accuracy')\n",
    "plt.legend()\n",
    "plt.show()"
   ]
  },
  {
   "cell_type": "code",
   "execution_count": 40,
   "id": "04cb8e2f",
   "metadata": {
    "execution": {
     "iopub.execute_input": "2025-01-12T18:15:51.461823Z",
     "iopub.status.busy": "2025-01-12T18:15:51.461484Z",
     "iopub.status.idle": "2025-01-12T18:15:51.467464Z",
     "shell.execute_reply": "2025-01-12T18:15:51.466794Z"
    },
    "papermill": {
     "duration": 0.030603,
     "end_time": "2025-01-12T18:15:51.468694",
     "exception": false,
     "start_time": "2025-01-12T18:15:51.438091",
     "status": "completed"
    },
    "tags": []
   },
   "outputs": [],
   "source": [
    "def plot_confusion_matrix(cm, classes,\n",
    "                          normalize=False,\n",
    "                          title='Confusion matrix',\n",
    "                          cmap=plt.cm.Blues):\n",
    "    \"\"\"\n",
    "    This function prints and plots the confusion matrix.\n",
    "    Normalization can be applied by setting `normalize=True`.\n",
    "    \"\"\"\n",
    "    plt.imshow(cm, interpolation='nearest', cmap=cmap)\n",
    "    plt.title(title)\n",
    "    plt.colorbar()\n",
    "    tick_marks = np.arange(len(classes))\n",
    "    plt.xticks(tick_marks, classes, rotation=45)\n",
    "    plt.yticks(tick_marks, classes)\n",
    "\n",
    "    if normalize:\n",
    "        cm = cm.astype('float') / cm.sum(axis=1)[:, np.newaxis]\n",
    "\n",
    "    thresh = cm.max() / 2.\n",
    "    for i, j in itertools.product(range(cm.shape[0]), range(cm.shape[1])):\n",
    "        plt.text(j, i, cm[i, j],\n",
    "                 horizontalalignment=\"center\",\n",
    "                 color=\"white\" if cm[i, j] > thresh else \"black\")\n",
    "\n",
    "    plt.tight_layout()\n",
    "    plt.ylabel('True label')\n",
    "    plt.xlabel('Predicted label')"
   ]
  },
  {
   "cell_type": "code",
   "execution_count": 41,
   "id": "0bf3b914",
   "metadata": {
    "execution": {
     "iopub.execute_input": "2025-01-12T18:15:51.515226Z",
     "iopub.status.busy": "2025-01-12T18:15:51.514950Z",
     "iopub.status.idle": "2025-01-12T18:16:31.161775Z",
     "shell.execute_reply": "2025-01-12T18:16:31.160827Z"
    },
    "papermill": {
     "duration": 39.694768,
     "end_time": "2025-01-12T18:16:31.186312",
     "exception": false,
     "start_time": "2025-01-12T18:15:51.491544",
     "status": "completed"
    },
    "tags": []
   },
   "outputs": [
    {
     "data": {
      "image/png": "[encoded data removed]",
      "text/plain": [
       "<Figure size 640x480 with 2 Axes>"
      ]
     },
     "metadata": {},
     "output_type": "display_data"
    }
   ],
   "source": [
    "model.eval()\n",
    "y_label = []\n",
    "y_predict = []\n",
    "with torch.no_grad():\n",
    "    for i, data in enumerate(val_loader1):\n",
    "        images, labels = data\n",
    "        N = images.size(0)\n",
    "        images = Variable(images).to(device)\n",
    "        outputs = model(images)\n",
    "        prediction = outputs.max(1, keepdim=True)[1]\n",
    "        y_label.extend(labels.cpu().numpy())\n",
    "        y_predict.extend(np.squeeze(prediction.cpu().numpy().T))\n",
    "\n",
    "# compute the confusion matrix\n",
    "confusion_mtx = confusion_matrix(y_label, y_predict)\n",
    "# plot the confusion matrix\n",
    "plot_labels = ['akiec', 'bcc', 'bkl', 'df', 'nv', 'vasc','mel']\n",
    "plot_confusion_matrix(confusion_mtx, plot_labels)"
   ]
  },
  {
   "cell_type": "code",
   "execution_count": 42,
   "id": "022a35b9",
   "metadata": {
    "execution": {
     "iopub.execute_input": "2025-01-12T18:16:31.234872Z",
     "iopub.status.busy": "2025-01-12T18:16:31.234501Z",
     "iopub.status.idle": "2025-01-12T18:16:31.251294Z",
     "shell.execute_reply": "2025-01-12T18:16:31.250271Z"
    },
    "papermill": {
     "duration": 0.043061,
     "end_time": "2025-01-12T18:16:31.252646",
     "exception": false,
     "start_time": "2025-01-12T18:16:31.209585",
     "status": "completed"
    },
    "tags": []
   },
   "outputs": [
    {
     "name": "stdout",
     "output_type": "stream",
     "text": [
      "              precision    recall  f1-score   support\n",
      "\n",
      "       akiec       0.92      0.45      0.61       870\n",
      "         bcc       0.86      0.85      0.85       875\n",
      "         bkl       0.69      0.68      0.69       880\n",
      "          df       0.98      0.76      0.85       880\n",
      "          nv       0.51      0.96      0.66       883\n",
      "        vasc       1.00      0.70      0.82       871\n",
      "         mel       0.54      0.61      0.57       874\n",
      "\n",
      "    accuracy                           0.72      6133\n",
      "   macro avg       0.78      0.72      0.72      6133\n",
      "weighted avg       0.78      0.72      0.72      6133\n",
      "\n"
     ]
    }
   ],
   "source": [
    "# Generate a classification report\n",
    "report = classification_report(y_label, y_predict, target_names=plot_labels)\n",
    "print(report)"
   ]
  },
  {
   "cell_type": "code",
   "execution_count": 43,
   "id": "6571439c",
   "metadata": {
    "execution": {
     "iopub.execute_input": "2025-01-12T18:16:31.300598Z",
     "iopub.status.busy": "2025-01-12T18:16:31.300278Z",
     "iopub.status.idle": "2025-01-12T18:16:31.541705Z",
     "shell.execute_reply": "2025-01-12T18:16:31.540817Z"
    },
    "papermill": {
     "duration": 0.266758,
     "end_time": "2025-01-12T18:16:31.543008",
     "exception": false,
     "start_time": "2025-01-12T18:16:31.276250",
     "status": "completed"
    },
    "tags": []
   },
   "outputs": [
    {
     "data": {
      "text/plain": [
       "Text(0, 0.5, 'Fraction classified incorrectly')"
      ]
     },
     "execution_count": 43,
     "metadata": {},
     "output_type": "execute_result"
    },
    {
     "data": {
      "image/png": "[encoded data removed]",
      "text/plain": [
       "<Figure size 640x480 with 1 Axes>"
      ]
     },
     "metadata": {},
     "output_type": "display_data"
    }
   ],
   "source": [
    "label_frac_error = 1 - np.diag(confusion_mtx) / np.sum(confusion_mtx, axis=1)\n",
    "plt.bar(np.arange(7),label_frac_error)\n",
    "plt.xlabel('True Label')\n",
    "plt.ylabel('Fraction classified incorrectly')"
   ]
  },
  {
   "cell_type": "code",
   "execution_count": null,
   "id": "3e03e162",
   "metadata": {
    "papermill": {
     "duration": 0.023211,
     "end_time": "2025-01-12T18:16:31.590575",
     "exception": false,
     "start_time": "2025-01-12T18:16:31.567364",
     "status": "completed"
    },
    "tags": []
   },
   "outputs": [],
   "source": []
  }
 ],
 "metadata": {
  "kaggle": {
   "accelerator": "gpu",
   "dataSources": [
    {
     "datasetId": 54339,
     "sourceId": 104884,
     "sourceType": "datasetVersion"
    }
   ],
   "dockerImageVersionId": 30823,
   "isGpuEnabled": true,
   "isInternetEnabled": true,
   "language": "python",
   "sourceType": "notebook"
  },
  "kernelspec": {
   "display_name": "Python 3",
   "language": "python",
   "name": "python3"
  },
  "language_info": {
   "codemirror_mode": {
    "name": "ipython",
    "version": 3
   },
   "file_extension": ".py",
   "mimetype": "text/x-python",
   "name": "python",
   "nbconvert_exporter": "python",
   "pygments_lexer": "ipython3",
   "version": "3.10.12"
  },
  "papermill": {
   "default_parameters": {},
   "duration": 5301.714678,
   "end_time": "2025-01-12T18:16:33.442284",
   "environment_variables": {},
   "exception": null,
   "input_path": "__notebook__.ipynb",
   "output_path": "__notebook__.ipynb",
   "parameters": {},
   "start_time": "2025-01-12T16:48:11.727606",
   "version": "2.6.0"
  }
 },
 "nbformat": 4,
 "nbformat_minor": 5
}
